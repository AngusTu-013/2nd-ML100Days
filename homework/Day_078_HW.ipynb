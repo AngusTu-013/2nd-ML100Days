{
 "cells": [
  {
   "cell_type": "markdown",
   "metadata": {},
   "source": [
    "## Work\n",
    "1. 請嘗試將 preproc_x 替換成以每筆資料的 min/max 進行標準化至 -1 ~ 1 間，再進行訓練\n",
    "2. 請嘗試將 mlp 疊更深 (e.g 5~10 層)，進行訓練後觀察 learning curve 的走勢\n",
    "3. (optional) 請改用 GPU 進行訓練 (如果你有 GPU 的話)，比較使用 CPU 與 GPU 的訓練速度"
   ]
  },
  {
   "cell_type": "code",
   "execution_count": 1,
   "metadata": {},
   "outputs": [
    {
     "name": "stderr",
     "output_type": "stream",
     "text": [
      "'nvidia-smi' 不是內部或外部命令、可執行的程式或批次檔。\n"
     ]
    }
   ],
   "source": [
    "## \n",
    "\"\"\"\n",
    "Your code here (optional)\n",
    "確認硬體資源\n",
    "\"\"\"\n",
    "!nvidia-smi"
   ]
  },
  {
   "cell_type": "code",
   "execution_count": 2,
   "metadata": {},
   "outputs": [
    {
     "name": "stderr",
     "output_type": "stream",
     "text": [
      "C:\\ProgramData\\Anaconda3\\lib\\site-packages\\h5py\\__init__.py:34: FutureWarning: Conversion of the second argument of issubdtype from `float` to `np.floating` is deprecated. In future, it will be treated as `np.float64 == np.dtype(float).type`.\n",
      "  from ._conv import register_converters as _register_converters\n",
      "Using TensorFlow backend.\n"
     ]
    }
   ],
   "source": [
    "import os\n",
    "import keras\n",
    "\n",
    "# 請嘗試設定 GPU：os.environ\n",
    "# 本範例不需使用 GPU, 將 GPU 設定為 \"無\"\n",
    "os.environ[\"CUDA_VISIBLE_DEVICES\"] = \"\""
   ]
  },
  {
   "cell_type": "code",
   "execution_count": 3,
   "metadata": {
    "collapsed": true
   },
   "outputs": [],
   "source": [
    "train, test = keras.datasets.cifar10.load_data()"
   ]
  },
  {
   "cell_type": "code",
   "execution_count": 4,
   "metadata": {
    "collapsed": true
   },
   "outputs": [],
   "source": [
    "## 資料前處理\n",
    "\"\"\"\n",
    "Your code here\n",
    "\"\"\"\n",
    "## 資料前處理\n",
    "def preproc_x(x, flatten=True):\n",
    "    x =x /255.\n",
    "    if flatten:\n",
    "        x = x.reshape((len(x), -1))\n",
    "    return x\n",
    "\n",
    "def preproc_y(y, num_classes=10):\n",
    "    if y.shape[-1] == 1:\n",
    "        y = keras.utils.to_categorical(y, num_classes)\n",
    "    return y    "
   ]
  },
  {
   "cell_type": "code",
   "execution_count": 5,
   "metadata": {},
   "outputs": [],
   "source": [
    "x_train, y_train = train\n",
    "x_test, y_test = test\n",
    "\n",
    "# Preproc the inputs\n",
    "x_train = preproc_x(x_train)\n",
    "x_test = preproc_x(x_test)\n",
    "\n",
    "# Preprc the outputs\n",
    "y_train = preproc_y(y_train)\n",
    "y_test = preproc_y(y_test)"
   ]
  },
  {
   "cell_type": "code",
   "execution_count": 7,
   "metadata": {},
   "outputs": [
    {
     "name": "stdout",
     "output_type": "stream",
     "text": [
      "_________________________________________________________________\n",
      "Layer (type)                 Output Shape              Param #   \n",
      "=================================================================\n",
      "input_1 (InputLayer)         (None, 3072)              0         \n",
      "_________________________________________________________________\n",
      "hidden_layer1 (Dense)        (None, 512)               1573376   \n",
      "_________________________________________________________________\n",
      "hidden_layer2 (Dense)        (None, 256)               131328    \n",
      "_________________________________________________________________\n",
      "hidden_layer3 (Dense)        (None, 128)               32896     \n",
      "_________________________________________________________________\n",
      "hidden_layer4 (Dense)        (None, 64)                8256      \n",
      "_________________________________________________________________\n",
      "hidden_layer5 (Dense)        (None, 32)                2080      \n",
      "_________________________________________________________________\n",
      "output (Dense)               (None, 10)                330       \n",
      "=================================================================\n",
      "Total params: 1,748,266\n",
      "Trainable params: 1,748,266\n",
      "Non-trainable params: 0\n",
      "_________________________________________________________________\n"
     ]
    }
   ],
   "source": [
    "\"\"\"Code Here\n",
    "建立你的神經網路\n",
    "\"\"\"\n",
    "def build_mlp(input_shape, output_units=10, num_neurons=[512, 256, 128, 64, 32]):\n",
    "    input_layer = keras.layers.Input(input_shape)\n",
    "    \n",
    "    for i, n_units in enumerate(num_neurons):\n",
    "        if i == 0:\n",
    "            x = keras.layers.Dense(units=n_units, activation=\"relu\", name=\"hidden_layer\"+str(i+1))(input_layer)\n",
    "        else:\n",
    "            x = keras.layers.Dense(units=n_units, activation=\"relu\", name=\"hidden_layer\"+str(i+1))(x)\n",
    "    \n",
    "    out = keras.layers.Dense(units=output_units, activation=\"softmax\", name=\"output\")(x)\n",
    "    \n",
    "    model = keras.models.Model(inputs=[input_layer], outputs=[out])\n",
    "    return model\n",
    "\n",
    "model = build_mlp(input_shape=x_train.shape[1:])\n",
    "model.summary()"
   ]
  },
  {
   "cell_type": "code",
   "execution_count": 8,
   "metadata": {
    "collapsed": true
   },
   "outputs": [],
   "source": [
    "## 超參數設定\n",
    "LEARNING_RATE = 0.001\n",
    "EPOCHS = 100\n",
    "BATCH_SIZE = 256"
   ]
  },
  {
   "cell_type": "code",
   "execution_count": 9,
   "metadata": {},
   "outputs": [
    {
     "name": "stdout",
     "output_type": "stream",
     "text": [
      "WARNING:tensorflow:From C:\\ProgramData\\Anaconda3\\lib\\site-packages\\keras\\backend\\tensorflow_backend.py:2857: calling reduce_sum (from tensorflow.python.ops.math_ops) with keep_dims is deprecated and will be removed in a future version.\n",
      "Instructions for updating:\n",
      "keep_dims is deprecated, use keepdims instead\n",
      "WARNING:tensorflow:From C:\\ProgramData\\Anaconda3\\lib\\site-packages\\keras\\backend\\tensorflow_backend.py:1340: calling reduce_mean (from tensorflow.python.ops.math_ops) with keep_dims is deprecated and will be removed in a future version.\n",
      "Instructions for updating:\n",
      "keep_dims is deprecated, use keepdims instead\n"
     ]
    }
   ],
   "source": [
    "optimizer = keras.optimizers.Adam(lr=LEARNING_RATE)\n",
    "model.compile(loss=\"categorical_crossentropy\", metrics=[\"accuracy\"], optimizer=optimizer)"
   ]
  },
  {
   "cell_type": "code",
   "execution_count": 10,
   "metadata": {},
   "outputs": [
    {
     "name": "stdout",
     "output_type": "stream",
     "text": [
      "Train on 50000 samples, validate on 10000 samples\n",
      "Epoch 1/100\n",
      "50000/50000 [==============================] - 20s 405us/step - loss: 1.9825 - acc: 0.2765 - val_loss: 1.8019 - val_acc: 0.3484\n",
      "Epoch 2/100\n",
      "50000/50000 [==============================] - 18s 366us/step - loss: 1.7448 - acc: 0.3699 - val_loss: 1.6966 - val_acc: 0.3928\n",
      "Epoch 3/100\n",
      "50000/50000 [==============================] - 19s 371us/step - loss: 1.6650 - acc: 0.4001 - val_loss: 1.6349 - val_acc: 0.4108\n",
      "Epoch 4/100\n",
      "50000/50000 [==============================] - 18s 356us/step - loss: 1.5961 - acc: 0.4286 - val_loss: 1.6148 - val_acc: 0.4256\n",
      "Epoch 5/100\n",
      "50000/50000 [==============================] - 18s 360us/step - loss: 1.5373 - acc: 0.4523 - val_loss: 1.5143 - val_acc: 0.4634\n",
      "Epoch 6/100\n",
      "50000/50000 [==============================] - 18s 358us/step - loss: 1.5004 - acc: 0.4626 - val_loss: 1.5424 - val_acc: 0.4478\n",
      "Epoch 7/100\n",
      "50000/50000 [==============================] - 18s 360us/step - loss: 1.4659 - acc: 0.4768 - val_loss: 1.5035 - val_acc: 0.4696\n",
      "Epoch 8/100\n",
      "50000/50000 [==============================] - 18s 359us/step - loss: 1.4329 - acc: 0.4880 - val_loss: 1.4999 - val_acc: 0.4743\n",
      "Epoch 9/100\n",
      "50000/50000 [==============================] - 18s 359us/step - loss: 1.4040 - acc: 0.4992 - val_loss: 1.4767 - val_acc: 0.4792\n",
      "Epoch 10/100\n",
      "50000/50000 [==============================] - 18s 361us/step - loss: 1.3809 - acc: 0.5054 - val_loss: 1.4729 - val_acc: 0.4829\n",
      "Epoch 11/100\n",
      "50000/50000 [==============================] - 18s 358us/step - loss: 1.3544 - acc: 0.5164 - val_loss: 1.4634 - val_acc: 0.4802\n",
      "Epoch 12/100\n",
      "50000/50000 [==============================] - 18s 359us/step - loss: 1.3270 - acc: 0.5264 - val_loss: 1.4109 - val_acc: 0.5047\n",
      "Epoch 13/100\n",
      "50000/50000 [==============================] - 18s 358us/step - loss: 1.3038 - acc: 0.5360 - val_loss: 1.4924 - val_acc: 0.4726\n",
      "Epoch 14/100\n",
      "50000/50000 [==============================] - 18s 356us/step - loss: 1.2885 - acc: 0.5413 - val_loss: 1.3905 - val_acc: 0.5120\n",
      "Epoch 15/100\n",
      "50000/50000 [==============================] - 18s 351us/step - loss: 1.2634 - acc: 0.5477 - val_loss: 1.3891 - val_acc: 0.5091\n",
      "Epoch 16/100\n",
      "50000/50000 [==============================] - 18s 352us/step - loss: 1.2437 - acc: 0.5567 - val_loss: 1.4212 - val_acc: 0.4960\n",
      "Epoch 17/100\n",
      "50000/50000 [==============================] - 18s 352us/step - loss: 1.2197 - acc: 0.5655 - val_loss: 1.3851 - val_acc: 0.5138\n",
      "Epoch 18/100\n",
      "50000/50000 [==============================] - 18s 350us/step - loss: 1.1975 - acc: 0.5699 - val_loss: 1.3901 - val_acc: 0.5236\n",
      "Epoch 19/100\n",
      "50000/50000 [==============================] - 18s 352us/step - loss: 1.1787 - acc: 0.5796 - val_loss: 1.4204 - val_acc: 0.5001\n",
      "Epoch 20/100\n",
      "50000/50000 [==============================] - 18s 351us/step - loss: 1.1670 - acc: 0.5815 - val_loss: 1.3770 - val_acc: 0.5209\n",
      "Epoch 21/100\n",
      "50000/50000 [==============================] - 18s 350us/step - loss: 1.1413 - acc: 0.5926 - val_loss: 1.3751 - val_acc: 0.5138\n",
      "Epoch 22/100\n",
      "50000/50000 [==============================] - 17s 350us/step - loss: 1.1197 - acc: 0.6000 - val_loss: 1.4014 - val_acc: 0.5116\n",
      "Epoch 23/100\n",
      "50000/50000 [==============================] - 18s 352us/step - loss: 1.1041 - acc: 0.6046 - val_loss: 1.3861 - val_acc: 0.5153\n",
      "Epoch 24/100\n",
      "50000/50000 [==============================] - 18s 352us/step - loss: 1.0848 - acc: 0.6142 - val_loss: 1.4536 - val_acc: 0.4944\n",
      "Epoch 25/100\n",
      "50000/50000 [==============================] - 18s 352us/step - loss: 1.0653 - acc: 0.6199 - val_loss: 1.4034 - val_acc: 0.5175\n",
      "Epoch 26/100\n",
      "50000/50000 [==============================] - 18s 351us/step - loss: 1.0502 - acc: 0.6239 - val_loss: 1.4109 - val_acc: 0.5197\n",
      "Epoch 27/100\n",
      "50000/50000 [==============================] - 18s 351us/step - loss: 1.0296 - acc: 0.6294 - val_loss: 1.4334 - val_acc: 0.5142\n",
      "Epoch 28/100\n",
      "50000/50000 [==============================] - 18s 352us/step - loss: 1.0106 - acc: 0.6382 - val_loss: 1.4472 - val_acc: 0.5092\n",
      "Epoch 29/100\n",
      "50000/50000 [==============================] - 18s 353us/step - loss: 0.9916 - acc: 0.6435 - val_loss: 1.4157 - val_acc: 0.5229\n",
      "Epoch 30/100\n",
      "50000/50000 [==============================] - 18s 351us/step - loss: 0.9761 - acc: 0.6526 - val_loss: 1.4551 - val_acc: 0.5061\n",
      "Epoch 31/100\n",
      "50000/50000 [==============================] - 18s 351us/step - loss: 0.9613 - acc: 0.6567 - val_loss: 1.4099 - val_acc: 0.5286\n",
      "Epoch 32/100\n",
      "50000/50000 [==============================] - 18s 351us/step - loss: 0.9476 - acc: 0.6603 - val_loss: 1.4373 - val_acc: 0.5239\n",
      "Epoch 33/100\n",
      "50000/50000 [==============================] - 18s 351us/step - loss: 0.9257 - acc: 0.6700 - val_loss: 1.4666 - val_acc: 0.5256\n",
      "Epoch 34/100\n",
      "50000/50000 [==============================] - 18s 354us/step - loss: 0.9070 - acc: 0.6749 - val_loss: 1.4958 - val_acc: 0.5206\n",
      "Epoch 35/100\n",
      "50000/50000 [==============================] - 18s 352us/step - loss: 0.8923 - acc: 0.6803 - val_loss: 1.4728 - val_acc: 0.5244\n",
      "Epoch 36/100\n",
      "50000/50000 [==============================] - 18s 357us/step - loss: 0.8785 - acc: 0.6829 - val_loss: 1.5366 - val_acc: 0.5170\n",
      "Epoch 37/100\n",
      "50000/50000 [==============================] - 18s 357us/step - loss: 0.8539 - acc: 0.6921 - val_loss: 1.5080 - val_acc: 0.5234\n",
      "Epoch 38/100\n",
      "50000/50000 [==============================] - 18s 357us/step - loss: 0.8373 - acc: 0.7012 - val_loss: 1.5399 - val_acc: 0.5242\n",
      "Epoch 39/100\n",
      "50000/50000 [==============================] - 18s 360us/step - loss: 0.8185 - acc: 0.7068 - val_loss: 1.5446 - val_acc: 0.5230\n",
      "Epoch 40/100\n",
      "50000/50000 [==============================] - 18s 357us/step - loss: 0.8079 - acc: 0.7119 - val_loss: 1.6187 - val_acc: 0.5118\n",
      "Epoch 41/100\n",
      "50000/50000 [==============================] - 18s 358us/step - loss: 0.7966 - acc: 0.7147 - val_loss: 1.6051 - val_acc: 0.5228\n",
      "Epoch 42/100\n",
      "50000/50000 [==============================] - 18s 357us/step - loss: 0.7888 - acc: 0.7172 - val_loss: 1.5685 - val_acc: 0.5214\n",
      "Epoch 43/100\n",
      "50000/50000 [==============================] - 18s 357us/step - loss: 0.7697 - acc: 0.7247 - val_loss: 1.6406 - val_acc: 0.5260\n",
      "Epoch 44/100\n",
      "50000/50000 [==============================] - 18s 360us/step - loss: 0.7676 - acc: 0.7243 - val_loss: 1.6596 - val_acc: 0.5213\n",
      "Epoch 45/100\n",
      "50000/50000 [==============================] - 18s 358us/step - loss: 0.7349 - acc: 0.7358 - val_loss: 1.7300 - val_acc: 0.5084\n",
      "Epoch 46/100\n",
      "50000/50000 [==============================] - 18s 358us/step - loss: 0.7291 - acc: 0.7395 - val_loss: 1.6805 - val_acc: 0.5181\n",
      "Epoch 47/100\n",
      "50000/50000 [==============================] - 19s 376us/step - loss: 0.7088 - acc: 0.7443 - val_loss: 1.7630 - val_acc: 0.5156\n",
      "Epoch 48/100\n",
      "50000/50000 [==============================] - 18s 367us/step - loss: 0.7011 - acc: 0.7498 - val_loss: 1.7800 - val_acc: 0.5033\n",
      "Epoch 49/100\n",
      "50000/50000 [==============================] - 18s 369us/step - loss: 0.7039 - acc: 0.7498 - val_loss: 1.7869 - val_acc: 0.5201\n",
      "Epoch 50/100\n",
      "50000/50000 [==============================] - 18s 367us/step - loss: 0.6807 - acc: 0.7559 - val_loss: 1.7558 - val_acc: 0.5203\n",
      "Epoch 51/100\n",
      "50000/50000 [==============================] - 18s 367us/step - loss: 0.6642 - acc: 0.7614 - val_loss: 1.8090 - val_acc: 0.5148\n",
      "Epoch 52/100\n",
      "50000/50000 [==============================] - 18s 367us/step - loss: 0.6518 - acc: 0.7654 - val_loss: 1.8429 - val_acc: 0.5191\n",
      "Epoch 53/100\n",
      "50000/50000 [==============================] - 18s 369us/step - loss: 0.6433 - acc: 0.7701 - val_loss: 1.8324 - val_acc: 0.5138\n",
      "Epoch 54/100\n",
      "50000/50000 [==============================] - 18s 368us/step - loss: 0.6377 - acc: 0.7692 - val_loss: 1.8396 - val_acc: 0.5142\n",
      "Epoch 55/100\n",
      "50000/50000 [==============================] - 18s 367us/step - loss: 0.6206 - acc: 0.7774 - val_loss: 1.8925 - val_acc: 0.5173\n",
      "Epoch 56/100\n",
      "50000/50000 [==============================] - 18s 367us/step - loss: 0.5959 - acc: 0.7858 - val_loss: 1.9234 - val_acc: 0.5169\n",
      "Epoch 57/100\n",
      "50000/50000 [==============================] - 18s 366us/step - loss: 0.5849 - acc: 0.7889 - val_loss: 2.0440 - val_acc: 0.5006\n",
      "Epoch 58/100\n",
      "50000/50000 [==============================] - 18s 366us/step - loss: 0.6001 - acc: 0.7865 - val_loss: 1.9880 - val_acc: 0.5145\n"
     ]
    },
    {
     "name": "stdout",
     "output_type": "stream",
     "text": [
      "Epoch 59/100\n",
      "50000/50000 [==============================] - 18s 353us/step - loss: 0.5738 - acc: 0.7945 - val_loss: 1.9696 - val_acc: 0.5098\n",
      "Epoch 60/100\n",
      "50000/50000 [==============================] - 18s 354us/step - loss: 0.5637 - acc: 0.7967 - val_loss: 2.0157 - val_acc: 0.5160\n",
      "Epoch 61/100\n",
      "50000/50000 [==============================] - 18s 354us/step - loss: 0.5579 - acc: 0.8007 - val_loss: 2.0128 - val_acc: 0.5126\n",
      "Epoch 62/100\n",
      "50000/50000 [==============================] - 18s 356us/step - loss: 0.5433 - acc: 0.8056 - val_loss: 2.0885 - val_acc: 0.5127\n",
      "Epoch 63/100\n",
      "50000/50000 [==============================] - 18s 354us/step - loss: 0.5482 - acc: 0.8024 - val_loss: 2.1617 - val_acc: 0.5100\n",
      "Epoch 64/100\n",
      "50000/50000 [==============================] - 18s 354us/step - loss: 0.5337 - acc: 0.8075 - val_loss: 2.1119 - val_acc: 0.5107\n",
      "Epoch 65/100\n",
      "50000/50000 [==============================] - 18s 354us/step - loss: 0.5292 - acc: 0.8093 - val_loss: 2.1614 - val_acc: 0.5113\n",
      "Epoch 66/100\n",
      "50000/50000 [==============================] - 18s 355us/step - loss: 0.5249 - acc: 0.8108 - val_loss: 2.1807 - val_acc: 0.5003\n",
      "Epoch 67/100\n",
      "50000/50000 [==============================] - 18s 357us/step - loss: 0.5057 - acc: 0.8169 - val_loss: 2.2373 - val_acc: 0.5038\n",
      "Epoch 68/100\n",
      "50000/50000 [==============================] - 18s 355us/step - loss: 0.4880 - acc: 0.8267 - val_loss: 2.2420 - val_acc: 0.5106\n",
      "Epoch 69/100\n",
      "50000/50000 [==============================] - 17s 346us/step - loss: 0.5052 - acc: 0.8194 - val_loss: 2.2002 - val_acc: 0.5153\n",
      "Epoch 70/100\n",
      "50000/50000 [==============================] - 17s 347us/step - loss: 0.4887 - acc: 0.8234 - val_loss: 2.2734 - val_acc: 0.5130\n",
      "Epoch 71/100\n",
      "50000/50000 [==============================] - 17s 347us/step - loss: 0.4815 - acc: 0.8272 - val_loss: 2.2574 - val_acc: 0.5123\n",
      "Epoch 72/100\n",
      "50000/50000 [==============================] - 17s 347us/step - loss: 0.4555 - acc: 0.8348 - val_loss: 2.2907 - val_acc: 0.5102\n",
      "Epoch 73/100\n",
      "50000/50000 [==============================] - 17s 347us/step - loss: 0.4565 - acc: 0.8350 - val_loss: 2.3602 - val_acc: 0.5072\n",
      "Epoch 74/100\n",
      "50000/50000 [==============================] - 17s 348us/step - loss: 0.4347 - acc: 0.8433 - val_loss: 2.4149 - val_acc: 0.5042\n",
      "Epoch 75/100\n",
      "50000/50000 [==============================] - 17s 348us/step - loss: 0.4644 - acc: 0.8316 - val_loss: 2.4004 - val_acc: 0.5029\n",
      "Epoch 76/100\n",
      "50000/50000 [==============================] - 17s 348us/step - loss: 0.4320 - acc: 0.8448 - val_loss: 2.3376 - val_acc: 0.5123\n",
      "Epoch 77/100\n",
      "50000/50000 [==============================] - 17s 349us/step - loss: 0.4368 - acc: 0.8437 - val_loss: 2.4397 - val_acc: 0.5080\n",
      "Epoch 78/100\n",
      "50000/50000 [==============================] - 17s 347us/step - loss: 0.4241 - acc: 0.8465 - val_loss: 2.4901 - val_acc: 0.4975\n",
      "Epoch 79/100\n",
      "50000/50000 [==============================] - 17s 347us/step - loss: 0.4181 - acc: 0.8488 - val_loss: 2.5015 - val_acc: 0.5044\n",
      "Epoch 80/100\n",
      "50000/50000 [==============================] - 17s 347us/step - loss: 0.4242 - acc: 0.8466 - val_loss: 2.4789 - val_acc: 0.5045\n",
      "Epoch 81/100\n",
      "50000/50000 [==============================] - 17s 347us/step - loss: 0.4144 - acc: 0.8502 - val_loss: 2.5260 - val_acc: 0.5043\n",
      "Epoch 82/100\n",
      "50000/50000 [==============================] - 18s 350us/step - loss: 0.4024 - acc: 0.8563 - val_loss: 2.5914 - val_acc: 0.4967\n",
      "Epoch 83/100\n",
      "50000/50000 [==============================] - 17s 348us/step - loss: 0.3994 - acc: 0.8550 - val_loss: 2.6934 - val_acc: 0.5034\n",
      "Epoch 84/100\n",
      "50000/50000 [==============================] - 17s 348us/step - loss: 0.3959 - acc: 0.8587 - val_loss: 2.6455 - val_acc: 0.4999\n",
      "Epoch 85/100\n",
      "50000/50000 [==============================] - 17s 348us/step - loss: 0.3803 - acc: 0.8635 - val_loss: 2.6423 - val_acc: 0.5081\n",
      "Epoch 86/100\n",
      "50000/50000 [==============================] - 17s 350us/step - loss: 0.3808 - acc: 0.8640 - val_loss: 2.7329 - val_acc: 0.4978\n",
      "Epoch 87/100\n",
      "50000/50000 [==============================] - 17s 348us/step - loss: 0.3752 - acc: 0.8644 - val_loss: 2.7623 - val_acc: 0.5031\n",
      "Epoch 88/100\n",
      "50000/50000 [==============================] - 17s 349us/step - loss: 0.3927 - acc: 0.8592 - val_loss: 2.7573 - val_acc: 0.4952\n",
      "Epoch 89/100\n",
      "50000/50000 [==============================] - 17s 349us/step - loss: 0.3757 - acc: 0.8659 - val_loss: 2.7291 - val_acc: 0.5074\n",
      "Epoch 90/100\n",
      "50000/50000 [==============================] - 17s 350us/step - loss: 0.3704 - acc: 0.8677 - val_loss: 2.7727 - val_acc: 0.5003\n",
      "Epoch 91/100\n",
      "50000/50000 [==============================] - 18s 350us/step - loss: 0.3623 - acc: 0.8709 - val_loss: 2.7247 - val_acc: 0.5158\n",
      "Epoch 92/100\n",
      "50000/50000 [==============================] - 17s 348us/step - loss: 0.3512 - acc: 0.8732 - val_loss: 2.8729 - val_acc: 0.4986\n",
      "Epoch 93/100\n",
      "50000/50000 [==============================] - 17s 348us/step - loss: 0.3640 - acc: 0.8688 - val_loss: 2.8941 - val_acc: 0.4990\n",
      "Epoch 94/100\n",
      "50000/50000 [==============================] - 17s 348us/step - loss: 0.3743 - acc: 0.8648 - val_loss: 2.7006 - val_acc: 0.5068\n",
      "Epoch 95/100\n",
      "50000/50000 [==============================] - 17s 349us/step - loss: 0.3338 - acc: 0.8797 - val_loss: 2.9062 - val_acc: 0.5075\n",
      "Epoch 96/100\n",
      "50000/50000 [==============================] - 18s 350us/step - loss: 0.3405 - acc: 0.8781 - val_loss: 2.9125 - val_acc: 0.4975\n",
      "Epoch 97/100\n",
      "50000/50000 [==============================] - 17s 349us/step - loss: 0.3453 - acc: 0.8745 - val_loss: 2.9186 - val_acc: 0.5026\n",
      "Epoch 98/100\n",
      "50000/50000 [==============================] - 17s 349us/step - loss: 0.3293 - acc: 0.8817 - val_loss: 2.9506 - val_acc: 0.5063\n",
      "Epoch 99/100\n",
      "50000/50000 [==============================] - 17s 348us/step - loss: 0.3556 - acc: 0.8723 - val_loss: 2.8321 - val_acc: 0.4956\n",
      "Epoch 100/100\n",
      "50000/50000 [==============================] - 18s 367us/step - loss: 0.3410 - acc: 0.8787 - val_loss: 2.8706 - val_acc: 0.5038\n"
     ]
    },
    {
     "data": {
      "text/plain": [
       "<keras.callbacks.History at 0x16261358>"
      ]
     },
     "execution_count": 10,
     "metadata": {},
     "output_type": "execute_result"
    }
   ],
   "source": [
    "model.fit(x_train, y_train, \n",
    "          epochs=EPOCHS, \n",
    "          batch_size=BATCH_SIZE, \n",
    "          validation_data=(x_test, y_test), \n",
    "          shuffle=True)"
   ]
  },
  {
   "cell_type": "code",
   "execution_count": 12,
   "metadata": {},
   "outputs": [
    {
     "data": {
      "image/png": "[encoded data removed]",
      "text/plain": [
       "<Figure size 432x288 with 1 Axes>"
      ]
     },
     "metadata": {
      "needs_background": "light"
     },
     "output_type": "display_data"
    },
    {
     "data": {
      "image/png": "[encoded data removed]",
      "text/plain": [
       "<Figure size 432x288 with 1 Axes>"
      ]
     },
     "metadata": {
      "needs_background": "light"
     },
     "output_type": "display_data"
    }
   ],
   "source": [
    "import matplotlib.pyplot as plt\n",
    "\n",
    "\n",
    "train_loss = model.history.history[\"loss\"]\n",
    "valid_loss = model.history.history[\"val_loss\"]\n",
    "\n",
    "train_acc = model.history.history[\"acc\"]\n",
    "valid_acc = model.history.history[\"val_acc\"]\n",
    "\n",
    "plt.plot(range(len(train_loss)), train_loss, label=\"train loss\")\n",
    "plt.plot(range(len(valid_loss)), valid_loss, label=\"valid loss\")\n",
    "plt.legend()\n",
    "plt.title(\"Loss\")\n",
    "plt.show()\n",
    "\n",
    "plt.plot(range(len(train_acc)), train_acc, label=\"train accuracy\")\n",
    "plt.plot(range(len(valid_acc)), valid_acc, label=\"valid accuracy\")\n",
    "plt.legend()\n",
    "plt.title(\"Accuracy\")\n",
    "plt.show()"
   ]
  },
  {
   "cell_type": "code",
   "execution_count": null,
   "metadata": {
    "collapsed": true
   },
   "outputs": [],
   "source": []
  }
 ],
 "metadata": {
  "kernelspec": {
   "display_name": "Python 3",
   "language": "python",
   "name": "python3"
  }
 },
 "nbformat": 4,
 "nbformat_minor": 2
}
