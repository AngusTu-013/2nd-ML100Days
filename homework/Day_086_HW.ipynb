{
 "cells": [
  {
   "cell_type": "markdown",
   "metadata": {},
   "source": [
    "## Work\n",
    "1. 試比較 save_best_only 與否的差異\n",
    "2. 請僅存入將 save_weights_only 設定為 True, 並嘗試 reset ipynb 並將模型與權重重新建回並預測 x_test"
   ]
  },
  {
   "cell_type": "code",
   "execution_count": 1,
   "metadata": {},
   "outputs": [
    {
     "name": "stderr",
     "output_type": "stream",
     "text": [
      "C:\\ProgramData\\Anaconda3\\lib\\site-packages\\h5py\\__init__.py:34: FutureWarning: Conversion of the second argument of issubdtype from `float` to `np.floating` is deprecated. In future, it will be treated as `np.float64 == np.dtype(float).type`.\n",
      "  from ._conv import register_converters as _register_converters\n",
      "Using TensorFlow backend.\n"
     ]
    }
   ],
   "source": [
    "import os\n",
    "import keras\n",
    "\n",
    "# Disable GPU\n",
    "os.environ[\"CUDA_VISIBLE_DEVICES\"] = \"\""
   ]
  },
  {
   "cell_type": "code",
   "execution_count": 2,
   "metadata": {
    "collapsed": true
   },
   "outputs": [],
   "source": [
    "train, test = keras.datasets.cifar10.load_data()"
   ]
  },
  {
   "cell_type": "code",
   "execution_count": 3,
   "metadata": {
    "collapsed": true
   },
   "outputs": [],
   "source": [
    "## 資料前處理\n",
    "def preproc_x(x, flatten=True):\n",
    "    x = x / 255.\n",
    "    if flatten:\n",
    "        x = x.reshape((len(x), -1))\n",
    "    return x\n",
    "\n",
    "def preproc_y(y, num_classes=10):\n",
    "    if y.shape[-1] == 1:\n",
    "        y = keras.utils.to_categorical(y, num_classes)\n",
    "    return y    "
   ]
  },
  {
   "cell_type": "code",
   "execution_count": 4,
   "metadata": {
    "collapsed": true
   },
   "outputs": [],
   "source": [
    "x_train, y_train = train\n",
    "x_test, y_test = test\n",
    "\n",
    "# Preproc the inputs\n",
    "x_train = preproc_x(x_train)\n",
    "x_test = preproc_x(x_test)\n",
    "\n",
    "# Preprc the outputs\n",
    "y_train = preproc_y(y_train)\n",
    "y_test = preproc_y(y_test)"
   ]
  },
  {
   "cell_type": "code",
   "execution_count": 5,
   "metadata": {
    "collapsed": true
   },
   "outputs": [],
   "source": [
    "from keras.layers import BatchNormalization\n",
    "\n",
    "def build_mlp(input_shape, output_units=10, num_neurons=[512, 256, 128]):\n",
    "    \"\"\"Code Here\n",
    "    建立你的神經網路\n",
    "    \"\"\"\n",
    "    input_layer = keras.layers.Input(input_shape)\n",
    "    \n",
    "    for i, n_units in enumerate(num_neurons):\n",
    "        if i == 0:\n",
    "            x = keras.layers.Dense(units=n_units, \n",
    "                                   activation=\"relu\", \n",
    "                                   name=\"hidden_layer\"+str(i+1))(input_layer)\n",
    "            x = BatchNormalization()(x)\n",
    "        else:\n",
    "            x = keras.layers.Dense(units=n_units, \n",
    "                                   activation=\"relu\", \n",
    "                                   name=\"hidden_layer\"+str(i+1))(x)\n",
    "            x = BatchNormalization()(x)\n",
    "    \n",
    "    out = keras.layers.Dense(units=output_units, activation=\"softmax\", name=\"output\")(x)\n",
    "    \n",
    "    model = keras.models.Model(inputs=[input_layer], outputs=[out])\n",
    "    return model"
   ]
  },
  {
   "cell_type": "code",
   "execution_count": 6,
   "metadata": {
    "collapsed": true
   },
   "outputs": [],
   "source": [
    "\"\"\"Code Here\n",
    "設定超參數\n",
    "\"\"\"\n",
    "LEARNING_RATE = 1e-3\n",
    "EPOCHS = 50\n",
    "BATCH_SIZE = 1024\n",
    "MOMENTUM = 0.95"
   ]
  },
  {
   "cell_type": "code",
   "execution_count": 7,
   "metadata": {},
   "outputs": [
    {
     "name": "stdout",
     "output_type": "stream",
     "text": [
      "_________________________________________________________________\n",
      "Layer (type)                 Output Shape              Param #   \n",
      "=================================================================\n",
      "input_1 (InputLayer)         (None, 3072)              0         \n",
      "_________________________________________________________________\n",
      "hidden_layer1 (Dense)        (None, 512)               1573376   \n",
      "_________________________________________________________________\n",
      "batch_normalization_1 (Batch (None, 512)               2048      \n",
      "_________________________________________________________________\n",
      "hidden_layer2 (Dense)        (None, 256)               131328    \n",
      "_________________________________________________________________\n",
      "batch_normalization_2 (Batch (None, 256)               1024      \n",
      "_________________________________________________________________\n",
      "hidden_layer3 (Dense)        (None, 128)               32896     \n",
      "_________________________________________________________________\n",
      "batch_normalization_3 (Batch (None, 128)               512       \n",
      "_________________________________________________________________\n",
      "output (Dense)               (None, 10)                1290      \n",
      "=================================================================\n",
      "Total params: 1,742,474\n",
      "Trainable params: 1,740,682\n",
      "Non-trainable params: 1,792\n",
      "_________________________________________________________________\n",
      "WARNING:tensorflow:From C:\\ProgramData\\Anaconda3\\lib\\site-packages\\keras\\backend\\tensorflow_backend.py:2857: calling reduce_sum (from tensorflow.python.ops.math_ops) with keep_dims is deprecated and will be removed in a future version.\n",
      "Instructions for updating:\n",
      "keep_dims is deprecated, use keepdims instead\n",
      "WARNING:tensorflow:From C:\\ProgramData\\Anaconda3\\lib\\site-packages\\keras\\backend\\tensorflow_backend.py:1340: calling reduce_mean (from tensorflow.python.ops.math_ops) with keep_dims is deprecated and will be removed in a future version.\n",
      "Instructions for updating:\n",
      "keep_dims is deprecated, use keepdims instead\n",
      "Train on 50000 samples, validate on 10000 samples\n",
      "Epoch 1/50\n",
      "50000/50000 [==============================] - 24s 478us/step - loss: 2.1933 - acc: 0.2769 - val_loss: 2.1454 - val_acc: 0.1748\n",
      "Epoch 2/50\n",
      "50000/50000 [==============================] - 13s 261us/step - loss: 1.7343 - acc: 0.3943 - val_loss: 1.9343 - val_acc: 0.3097\n",
      "Epoch 3/50\n",
      "50000/50000 [==============================] - 14s 272us/step - loss: 1.6130 - acc: 0.4344 - val_loss: 1.7906 - val_acc: 0.3809\n",
      "Epoch 4/50\n",
      "50000/50000 [==============================] - 13s 251us/step - loss: 1.5426 - acc: 0.4609 - val_loss: 1.7124 - val_acc: 0.4019\n",
      "Epoch 5/50\n",
      "50000/50000 [==============================] - 12s 238us/step - loss: 1.4881 - acc: 0.4789 - val_loss: 1.6532 - val_acc: 0.4199\n",
      "Epoch 6/50\n",
      "50000/50000 [==============================] - 12s 243us/step - loss: 1.4462 - acc: 0.4922 - val_loss: 1.6059 - val_acc: 0.4315\n",
      "Epoch 7/50\n",
      "50000/50000 [==============================] - 12s 239us/step - loss: 1.4067 - acc: 0.5063 - val_loss: 1.5464 - val_acc: 0.4516\n",
      "Epoch 8/50\n",
      "50000/50000 [==============================] - 12s 235us/step - loss: 1.3715 - acc: 0.5209 - val_loss: 1.5180 - val_acc: 0.4611\n",
      "Epoch 9/50\n",
      "50000/50000 [==============================] - 12s 241us/step - loss: 1.3392 - acc: 0.5327 - val_loss: 1.4973 - val_acc: 0.4708\n",
      "Epoch 10/50\n",
      "50000/50000 [==============================] - 12s 245us/step - loss: 1.3094 - acc: 0.5443 - val_loss: 1.4895 - val_acc: 0.4759\n",
      "Epoch 11/50\n",
      "50000/50000 [==============================] - 13s 254us/step - loss: 1.2838 - acc: 0.5539 - val_loss: 1.4771 - val_acc: 0.4770\n",
      "Epoch 12/50\n",
      "50000/50000 [==============================] - 13s 262us/step - loss: 1.2558 - acc: 0.5646 - val_loss: 1.4696 - val_acc: 0.4831\n",
      "Epoch 13/50\n",
      "50000/50000 [==============================] - 13s 261us/step - loss: 1.2296 - acc: 0.5744 - val_loss: 1.4598 - val_acc: 0.4873\n",
      "Epoch 14/50\n",
      "50000/50000 [==============================] - 12s 241us/step - loss: 1.2066 - acc: 0.5830 - val_loss: 1.4688 - val_acc: 0.4851\n",
      "Epoch 15/50\n",
      "50000/50000 [==============================] - 12s 235us/step - loss: 1.1812 - acc: 0.5928 - val_loss: 1.4606 - val_acc: 0.4880\n",
      "Epoch 16/50\n",
      "50000/50000 [==============================] - 12s 247us/step - loss: 1.1580 - acc: 0.5996 - val_loss: 1.4525 - val_acc: 0.4914\n",
      "Epoch 17/50\n",
      "50000/50000 [==============================] - 12s 239us/step - loss: 1.1356 - acc: 0.6088 - val_loss: 1.4601 - val_acc: 0.4922\n",
      "Epoch 18/50\n",
      "50000/50000 [==============================] - 12s 235us/step - loss: 1.1147 - acc: 0.6169 - val_loss: 1.4520 - val_acc: 0.4929\n",
      "Epoch 19/50\n",
      "50000/50000 [==============================] - 12s 246us/step - loss: 1.0934 - acc: 0.6251 - val_loss: 1.4569 - val_acc: 0.4856\n",
      "Epoch 20/50\n",
      "50000/50000 [==============================] - 12s 238us/step - loss: 1.0709 - acc: 0.6344 - val_loss: 1.4725 - val_acc: 0.4819\n",
      "Epoch 21/50\n",
      "50000/50000 [==============================] - 12s 246us/step - loss: 1.0470 - acc: 0.6410 - val_loss: 1.4540 - val_acc: 0.4943\n",
      "Epoch 22/50\n",
      "50000/50000 [==============================] - 12s 239us/step - loss: 1.0261 - acc: 0.6508 - val_loss: 1.4485 - val_acc: 0.4950\n",
      "Epoch 23/50\n",
      "50000/50000 [==============================] - 12s 240us/step - loss: 1.0054 - acc: 0.6588 - val_loss: 1.4613 - val_acc: 0.4963\n",
      "Epoch 24/50\n",
      "50000/50000 [==============================] - 13s 263us/step - loss: 0.9863 - acc: 0.6668 - val_loss: 1.4507 - val_acc: 0.4981\n",
      "Epoch 25/50\n",
      "50000/50000 [==============================] - 13s 265us/step - loss: 0.9657 - acc: 0.6754 - val_loss: 1.4573 - val_acc: 0.4993\n",
      "Epoch 26/50\n",
      "50000/50000 [==============================] - 12s 243us/step - loss: 0.9458 - acc: 0.6817 - val_loss: 1.4635 - val_acc: 0.4977\n",
      "Epoch 27/50\n",
      "50000/50000 [==============================] - 12s 240us/step - loss: 0.9251 - acc: 0.6896 - val_loss: 1.4583 - val_acc: 0.4991\n",
      "Epoch 28/50\n",
      "50000/50000 [==============================] - 12s 249us/step - loss: 0.9039 - acc: 0.6992 - val_loss: 1.4595 - val_acc: 0.4973\n",
      "Epoch 29/50\n",
      "50000/50000 [==============================] - 12s 246us/step - loss: 0.8858 - acc: 0.7044 - val_loss: 1.4668 - val_acc: 0.4961\n",
      "Epoch 30/50\n",
      "50000/50000 [==============================] - 12s 249us/step - loss: 0.8648 - acc: 0.7134 - val_loss: 1.4780 - val_acc: 0.4960\n",
      "Epoch 31/50\n",
      "50000/50000 [==============================] - 12s 246us/step - loss: 0.8450 - acc: 0.7221 - val_loss: 1.4785 - val_acc: 0.5000\n",
      "Epoch 32/50\n",
      "50000/50000 [==============================] - 12s 249us/step - loss: 0.8260 - acc: 0.7288 - val_loss: 1.4768 - val_acc: 0.5003\n",
      "Epoch 33/50\n",
      "50000/50000 [==============================] - 12s 234us/step - loss: 0.8066 - acc: 0.7366 - val_loss: 1.4847 - val_acc: 0.4976\n",
      "Epoch 34/50\n",
      "50000/50000 [==============================] - 12s 233us/step - loss: 0.7886 - acc: 0.7442 - val_loss: 1.4946 - val_acc: 0.4973\n",
      "Epoch 35/50\n",
      "50000/50000 [==============================] - 12s 233us/step - loss: 0.7674 - acc: 0.7528 - val_loss: 1.5131 - val_acc: 0.4937\n",
      "Epoch 36/50\n",
      "50000/50000 [==============================] - 12s 233us/step - loss: 0.7493 - acc: 0.7592 - val_loss: 1.5070 - val_acc: 0.4972\n",
      "Epoch 37/50\n",
      "50000/50000 [==============================] - 12s 234us/step - loss: 0.7301 - acc: 0.7664 - val_loss: 1.5120 - val_acc: 0.4916\n",
      "Epoch 38/50\n",
      "50000/50000 [==============================] - 12s 239us/step - loss: 0.7110 - acc: 0.7760 - val_loss: 1.5410 - val_acc: 0.4933\n",
      "Epoch 39/50\n",
      "50000/50000 [==============================] - 13s 251us/step - loss: 0.6932 - acc: 0.7814 - val_loss: 1.5331 - val_acc: 0.4931\n",
      "Epoch 40/50\n",
      "50000/50000 [==============================] - 13s 250us/step - loss: 0.6751 - acc: 0.7897 - val_loss: 1.5576 - val_acc: 0.4943\n",
      "Epoch 41/50\n",
      "50000/50000 [==============================] - 13s 266us/step - loss: 0.6571 - acc: 0.7970 - val_loss: 1.5579 - val_acc: 0.4932\n",
      "Epoch 42/50\n",
      "50000/50000 [==============================] - 12s 234us/step - loss: 0.6386 - acc: 0.8030 - val_loss: 1.5712 - val_acc: 0.4910\n",
      "Epoch 43/50\n",
      "50000/50000 [==============================] - 12s 233us/step - loss: 0.6214 - acc: 0.8103 - val_loss: 1.5733 - val_acc: 0.4902\n",
      "Epoch 44/50\n",
      "50000/50000 [==============================] - 12s 244us/step - loss: 0.6034 - acc: 0.8175 - val_loss: 1.5882 - val_acc: 0.4908\n"
     ]
    },
    {
     "name": "stdout",
     "output_type": "stream",
     "text": [
      "Epoch 45/50\n",
      "50000/50000 [==============================] - 12s 241us/step - loss: 0.5874 - acc: 0.8245 - val_loss: 1.6121 - val_acc: 0.4862\n",
      "Epoch 46/50\n",
      "50000/50000 [==============================] - 12s 239us/step - loss: 0.5687 - acc: 0.8310 - val_loss: 1.6084 - val_acc: 0.4928\n",
      "Epoch 47/50\n",
      "50000/50000 [==============================] - 12s 233us/step - loss: 0.5520 - acc: 0.8382 - val_loss: 1.6296 - val_acc: 0.4890\n",
      "Epoch 48/50\n",
      "50000/50000 [==============================] - 12s 232us/step - loss: 0.5346 - acc: 0.8454 - val_loss: 1.6577 - val_acc: 0.4913\n",
      "Epoch 49/50\n",
      "50000/50000 [==============================] - 12s 233us/step - loss: 0.5185 - acc: 0.8520 - val_loss: 1.6475 - val_acc: 0.4900\n",
      "Epoch 50/50\n",
      "50000/50000 [==============================] - 12s 234us/step - loss: 0.5025 - acc: 0.8577 - val_loss: 1.6453 - val_acc: 0.4906\n"
     ]
    }
   ],
   "source": [
    "# 載入 Callbacks\n",
    "\"\"\"Code Here\n",
    "設定 callbacks: model checkpoint\n",
    "\"\"\"\n",
    "from keras.callbacks import ModelCheckpoint\n",
    "\n",
    "model_ckpt = ModelCheckpoint(filepath=\"./tmp.h5\", \n",
    "                             monitor=\"val_loss\", \n",
    "                             save_best_only=False,\n",
    "                            save_weights_only=True)\n",
    "\n",
    "results = {}\n",
    "\"\"\"Code Here\n",
    "撰寫你的訓練流程並將結果用 dictionary 紀錄\n",
    "\"\"\"\n",
    "model = build_mlp(input_shape=x_train.shape[1:])\n",
    "\n",
    "model.summary()\n",
    "optimizer = keras.optimizers.SGD(lr=LEARNING_RATE, nesterov=True, momentum=MOMENTUM)\n",
    "model.compile(loss=\"categorical_crossentropy\", metrics=[\"accuracy\"], optimizer=optimizer)\n",
    "\n",
    "model.fit(x_train, y_train, \n",
    "          epochs=EPOCHS, \n",
    "          batch_size=BATCH_SIZE, \n",
    "          validation_data=(x_test, y_test), \n",
    "          shuffle=True,\n",
    "          callbacks=[model_ckpt]\n",
    "         )\n",
    "\n",
    "# Collect results\n",
    "train_loss = model.history.history[\"loss\"]\n",
    "valid_loss = model.history.history[\"val_loss\"]\n",
    "train_acc = model.history.history[\"acc\"]\n",
    "valid_acc = model.history.history[\"val_acc\"]"
   ]
  },
  {
   "cell_type": "code",
   "execution_count": 9,
   "metadata": {},
   "outputs": [
    {
     "name": "stdout",
     "output_type": "stream",
     "text": [
      "10000/10000 [==============================] - 2s 211us/step\n",
      "_________________________________________________________________\n",
      "Layer (type)                 Output Shape              Param #   \n",
      "=================================================================\n",
      "input_2 (InputLayer)         (None, 3072)              0         \n",
      "_________________________________________________________________\n",
      "hidden_layer1 (Dense)        (None, 512)               1573376   \n",
      "_________________________________________________________________\n",
      "batch_normalization_4 (Batch (None, 512)               2048      \n",
      "_________________________________________________________________\n",
      "hidden_layer2 (Dense)        (None, 256)               131328    \n",
      "_________________________________________________________________\n",
      "batch_normalization_5 (Batch (None, 256)               1024      \n",
      "_________________________________________________________________\n",
      "hidden_layer3 (Dense)        (None, 128)               32896     \n",
      "_________________________________________________________________\n",
      "batch_normalization_6 (Batch (None, 128)               512       \n",
      "_________________________________________________________________\n",
      "output (Dense)               (None, 10)                1290      \n",
      "=================================================================\n",
      "Total params: 1,742,474\n",
      "Trainable params: 1,740,682\n",
      "Non-trainable params: 1,792\n",
      "_________________________________________________________________\n",
      "loss_loadback: 1.645327138710022\n",
      "acc_loadback: 0.4906\n"
     ]
    }
   ],
   "source": [
    "# Load back\n",
    "#reload_model = keras.models.load_model(\"./tmp.h5\")\n",
    "\n",
    "reload_model = build_mlp(input_shape=x_train.shape[1:])\n",
    "reload_model.load_weights(\"./tmp.h5\")\n",
    "optimizer = keras.optimizers.SGD(lr=LEARNING_RATE, nesterov=True, momentum=MOMENTUM)\n",
    "reload_model.compile(loss=\"categorical_crossentropy\", metrics=[\"accuracy\"], optimizer=optimizer)\n",
    "\n",
    "loss_loadback, acc_loadback = reload_model.evaluate(x_test, y_test)\n",
    "reload_model.summary()\n",
    "print('loss_loadback: {}\\nacc_loadback: {}'.format(loss_loadback, acc_loadback))"
   ]
  },
  {
   "cell_type": "code",
   "execution_count": 10,
   "metadata": {
    "scrolled": true
   },
   "outputs": [
    {
     "data": {
      "image/png": "[encoded data removed]",
      "text/plain": [
       "<Figure size 432x288 with 1 Axes>"
      ]
     },
     "metadata": {
      "needs_background": "light"
     },
     "output_type": "display_data"
    },
    {
     "data": {
      "image/png": "[encoded data removed]",
      "text/plain": [
       "<Figure size 432x288 with 1 Axes>"
      ]
     },
     "metadata": {
      "needs_background": "light"
     },
     "output_type": "display_data"
    }
   ],
   "source": [
    "import matplotlib.pyplot as plt\n",
    "%matplotlib inline\n",
    "\"\"\"Code Here\n",
    "將結果繪出\n",
    "\"\"\"\n",
    "\n",
    "plt.plot(range(len(train_loss)), train_loss, label=\"train loss\")\n",
    "plt.plot(range(len(valid_loss)), valid_loss, label=\"valid loss\")\n",
    "plt.hlines(y=loss_loadback, xmin=0, xmax=len(train_loss), colors='r', linestyles='--')\n",
    "plt.legend()\n",
    "plt.title(\"Loss\")\n",
    "plt.show()\n",
    "\n",
    "plt.plot(range(len(train_acc)), train_acc, label=\"train accuracy\")\n",
    "plt.plot(range(len(valid_acc)), valid_acc, label=\"valid accuracy\")\n",
    "plt.hlines(y=acc_loadback, xmin=0, xmax=len(train_loss), colors='r', linestyles='--')\n",
    "plt.legend()\n",
    "plt.title(\"Accuracy\")\n",
    "plt.show()"
   ]
  },
  {
   "cell_type": "code",
   "execution_count": null,
   "metadata": {
    "collapsed": true
   },
   "outputs": [],
   "source": []
  }
 ],
 "metadata": {
  "kernelspec": {
   "display_name": "Python 3",
   "language": "python",
   "name": "python3"
  }
 },
 "nbformat": 4,
 "nbformat_minor": 2
}
