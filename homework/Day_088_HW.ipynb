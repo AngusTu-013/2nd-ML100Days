{
 "cells": [
  {
   "cell_type": "markdown",
   "metadata": {},
   "source": [
    "## Work\n",
    "1. 請嘗試寫一個 callback 用來記錄各類別在訓練過程中，對驗證集的 True Positive 與 True Negative"
   ]
  },
  {
   "cell_type": "code",
   "execution_count": 1,
   "metadata": {},
   "outputs": [
    {
     "name": "stderr",
     "output_type": "stream",
     "text": [
      "C:\\ProgramData\\Anaconda3\\lib\\site-packages\\h5py\\__init__.py:34: FutureWarning: Conversion of the second argument of issubdtype from `float` to `np.floating` is deprecated. In future, it will be treated as `np.float64 == np.dtype(float).type`.\n",
      "  from ._conv import register_converters as _register_converters\n",
      "Using TensorFlow backend.\n"
     ]
    }
   ],
   "source": [
    "import os\n",
    "import keras\n",
    "\n",
    "# Disable GPU\n",
    "os.environ[\"CUDA_VISIBLE_DEVICES\"] = \"\""
   ]
  },
  {
   "cell_type": "code",
   "execution_count": 2,
   "metadata": {
    "collapsed": true
   },
   "outputs": [],
   "source": [
    "train, test = keras.datasets.cifar10.load_data()"
   ]
  },
  {
   "cell_type": "code",
   "execution_count": 3,
   "metadata": {
    "collapsed": true
   },
   "outputs": [],
   "source": [
    "## 資料前處理\n",
    "def preproc_x(x, flatten=True):\n",
    "    x = x / 255.\n",
    "    if flatten:\n",
    "        x = x.reshape((len(x), -1))\n",
    "    return x\n",
    "\n",
    "def preproc_y(y, num_classes=10):\n",
    "    if y.shape[-1] == 1:\n",
    "        y = keras.utils.to_categorical(y, num_classes)\n",
    "    return y    "
   ]
  },
  {
   "cell_type": "code",
   "execution_count": 4,
   "metadata": {
    "collapsed": true
   },
   "outputs": [],
   "source": [
    "x_train, y_train = train\n",
    "x_test, y_test = test\n",
    "\n",
    "# Preproc the inputs\n",
    "x_train = preproc_x(x_train)\n",
    "x_test = preproc_x(x_test)\n",
    "\n",
    "# Preprc the outputs\n",
    "y_train = preproc_y(y_train)\n",
    "y_test = preproc_y(y_test)"
   ]
  },
  {
   "cell_type": "code",
   "execution_count": 5,
   "metadata": {
    "collapsed": true
   },
   "outputs": [],
   "source": [
    "from keras.layers import BatchNormalization\n",
    "def build_mlp(input_shape, output_units=10, num_neurons=[256, 256, 256]):\n",
    "    \"\"\"Code Here\n",
    "    建立你的神經網路\n",
    "    \"\"\"\n",
    "    input_layer = keras.layers.Input(input_shape)\n",
    "    \n",
    "    for i, n_units in enumerate(num_neurons):\n",
    "        if i == 0:\n",
    "            x = keras.layers.Dense(units=n_units, \n",
    "                                   activation=\"relu\", \n",
    "                                   name=\"hidden_layer\"+str(i+1))(input_layer)\n",
    "            x = BatchNormalization()(x)\n",
    "        else:\n",
    "            x = keras.layers.Dense(units=n_units, \n",
    "                                   activation=\"relu\", \n",
    "                                   name=\"hidden_layer\"+str(i+1))(x)\n",
    "            x = BatchNormalization()(x)\n",
    "    \n",
    "    out = keras.layers.Dense(units=output_units, activation=\"softmax\", name=\"output\")(x)\n",
    "    \n",
    "    model = keras.models.Model(inputs=[input_layer], outputs=[out])\n",
    "    return model"
   ]
  },
  {
   "cell_type": "code",
   "execution_count": 6,
   "metadata": {
    "collapsed": true
   },
   "outputs": [],
   "source": [
    "## 超參數設定\n",
    "LEARNING_RATE = 1e-3\n",
    "EPOCHS = 25\n",
    "BATCH_SIZE = 1024\n",
    "MOMENTUM = 0.95"
   ]
  },
  {
   "cell_type": "code",
   "execution_count": 19,
   "metadata": {
    "collapsed": true
   },
   "outputs": [],
   "source": [
    "# 載入 Callbacks\n",
    "from keras.callbacks import Callback\n",
    "from sklearn.metrics import confusion_matrix\n",
    "\n",
    "# Record_fp_tp\n",
    "class Record_tp_tn(Callback):\n",
    "    \"\"\"Code Here\n",
    "    撰寫一個紀錄 ture positive 與 true negative 數量的 callbacks    \n",
    "    \"\"\"\n",
    "    def on_train_begin(self, epoch, logs = {}):\n",
    "        logs = logs or {}\n",
    "        record_items = [\"val_tp\", \"val_tn\"]\n",
    "        for i in record_items:\n",
    "            if i not in self.params['metrics']:\n",
    "                self.params['metrics'].append(i)\n",
    "    \n",
    "    def on_epoch_end(self, epoch, logs = {}, thres=0.5):\n",
    "        logs = logs or {}\n",
    "        y_true = self.validation_data[1].argmax(axis = 1)\n",
    "        y_pred = self.model.predict(self.validation_data[0])\n",
    "\n",
    "        y_pred = (y_pred[:, 1] >= thres) * 1\n",
    "\n",
    "        cm = confusion_matrix(y_true,y_pred)\n",
    "        logs[\"val_tp\"] = cm[0][0]\n",
    "        logs[\"val_tn\"] = cm[1][1]\n",
    "                \n",
    "rec_tptn = Record_tp_tn()"
   ]
  },
  {
   "cell_type": "code",
   "execution_count": 20,
   "metadata": {
    "scrolled": true
   },
   "outputs": [
    {
     "name": "stdout",
     "output_type": "stream",
     "text": [
      "_________________________________________________________________\n",
      "Layer (type)                 Output Shape              Param #   \n",
      "=================================================================\n",
      "input_6 (InputLayer)         (None, 3072)              0         \n",
      "_________________________________________________________________\n",
      "hidden_layer1 (Dense)        (None, 256)               786688    \n",
      "_________________________________________________________________\n",
      "batch_normalization_16 (Batc (None, 256)               1024      \n",
      "_________________________________________________________________\n",
      "hidden_layer2 (Dense)        (None, 256)               65792     \n",
      "_________________________________________________________________\n",
      "batch_normalization_17 (Batc (None, 256)               1024      \n",
      "_________________________________________________________________\n",
      "hidden_layer3 (Dense)        (None, 256)               65792     \n",
      "_________________________________________________________________\n",
      "batch_normalization_18 (Batc (None, 256)               1024      \n",
      "_________________________________________________________________\n",
      "output (Dense)               (None, 10)                2570      \n",
      "=================================================================\n",
      "Total params: 923,914\n",
      "Trainable params: 922,378\n",
      "Non-trainable params: 1,536\n",
      "_________________________________________________________________\n",
      "Train on 50000 samples, validate on 10000 samples\n",
      "Epoch 1/25\n",
      "50000/50000 [==============================] - 11s 225us/step - loss: 2.1846 - acc: 0.2720 - val_loss: 2.1424 - val_acc: 0.1902 - val_tp: 1000.0000 - val_tn: 0.0000e+00\n",
      "Epoch 2/25\n",
      "50000/50000 [==============================] - 9s 186us/step - loss: 1.7524 - acc: 0.3891 - val_loss: 1.9898 - val_acc: 0.2811 - val_tp: 1000.0000 - val_tn: 0.0000e+00\n",
      "Epoch 3/25\n",
      "50000/50000 [==============================] - 9s 189us/step - loss: 1.6295 - acc: 0.4294 - val_loss: 1.8442 - val_acc: 0.3548 - val_tp: 1000.0000 - val_tn: 17.0000\n",
      "Epoch 4/25\n",
      "50000/50000 [==============================] - 9s 186us/step - loss: 1.5544 - acc: 0.4560 - val_loss: 1.7184 - val_acc: 0.4184 - val_tp: 1000.0000 - val_tn: 53.0000\n",
      "Epoch 5/25\n",
      "50000/50000 [==============================] - 9s 186us/step - loss: 1.4979 - acc: 0.4758 - val_loss: 1.6328 - val_acc: 0.4304 - val_tp: 998.0000 - val_tn: 176.0000\n",
      "Epoch 6/25\n",
      "50000/50000 [==============================] - 9s 186us/step - loss: 1.4560 - acc: 0.4911 - val_loss: 1.5727 - val_acc: 0.4532 - val_tp: 999.0000 - val_tn: 165.0000\n",
      "Epoch 7/25\n",
      "50000/50000 [==============================] - 9s 186us/step - loss: 1.4177 - acc: 0.5040 - val_loss: 1.5349 - val_acc: 0.4583 - val_tp: 995.0000 - val_tn: 308.0000\n",
      "Epoch 8/25\n",
      "50000/50000 [==============================] - 9s 187us/step - loss: 1.3840 - acc: 0.5163 - val_loss: 1.5088 - val_acc: 0.4667 - val_tp: 993.0000 - val_tn: 341.0000\n",
      "Epoch 9/25\n",
      "50000/50000 [==============================] - 9s 187us/step - loss: 1.3547 - acc: 0.5273 - val_loss: 1.5025 - val_acc: 0.4675 - val_tp: 991.0000 - val_tn: 395.0000\n",
      "Epoch 10/25\n",
      "50000/50000 [==============================] - 9s 185us/step - loss: 1.3290 - acc: 0.5365 - val_loss: 1.4811 - val_acc: 0.4747 - val_tp: 987.0000 - val_tn: 461.0000\n",
      "Epoch 11/25\n",
      "50000/50000 [==============================] - 9s 189us/step - loss: 1.3029 - acc: 0.5456 - val_loss: 1.4823 - val_acc: 0.4751 - val_tp: 987.0000 - val_tn: 454.0000\n",
      "Epoch 12/25\n",
      "50000/50000 [==============================] - 9s 187us/step - loss: 1.2792 - acc: 0.5523 - val_loss: 1.4709 - val_acc: 0.4818 - val_tp: 983.0000 - val_tn: 451.0000\n",
      "Epoch 13/25\n",
      "50000/50000 [==============================] - 10s 200us/step - loss: 1.2586 - acc: 0.5639 - val_loss: 1.4674 - val_acc: 0.4813 - val_tp: 982.0000 - val_tn: 461.0000\n",
      "Epoch 14/25\n",
      "50000/50000 [==============================] - 10s 197us/step - loss: 1.2365 - acc: 0.5714 - val_loss: 1.4530 - val_acc: 0.4882 - val_tp: 986.0000 - val_tn: 450.0000\n",
      "Epoch 15/25\n",
      "50000/50000 [==============================] - 10s 194us/step - loss: 1.2141 - acc: 0.5797 - val_loss: 1.4538 - val_acc: 0.4910 - val_tp: 986.0000 - val_tn: 482.0000\n",
      "Epoch 16/25\n",
      "50000/50000 [==============================] - 10s 192us/step - loss: 1.1947 - acc: 0.5865 - val_loss: 1.4533 - val_acc: 0.4883 - val_tp: 988.0000 - val_tn: 457.0000\n",
      "Epoch 17/25\n",
      "50000/50000 [==============================] - 9s 189us/step - loss: 1.1765 - acc: 0.5936 - val_loss: 1.4397 - val_acc: 0.4910 - val_tp: 982.0000 - val_tn: 477.0000\n",
      "Epoch 18/25\n",
      "50000/50000 [==============================] - 9s 189us/step - loss: 1.1570 - acc: 0.6008 - val_loss: 1.4396 - val_acc: 0.4939 - val_tp: 980.0000 - val_tn: 482.0000\n",
      "Epoch 19/25\n",
      "50000/50000 [==============================] - 9s 186us/step - loss: 1.1391 - acc: 0.6076 - val_loss: 1.4354 - val_acc: 0.4943 - val_tp: 982.0000 - val_tn: 518.0000\n",
      "Epoch 20/25\n",
      "50000/50000 [==============================] - 9s 189us/step - loss: 1.1199 - acc: 0.6157 - val_loss: 1.4277 - val_acc: 0.4978 - val_tp: 983.0000 - val_tn: 512.0000\n",
      "Epoch 21/25\n",
      "50000/50000 [==============================] - 9s 190us/step - loss: 1.1034 - acc: 0.6206 - val_loss: 1.4361 - val_acc: 0.4988 - val_tp: 986.0000 - val_tn: 473.0000\n",
      "Epoch 22/25\n",
      "50000/50000 [==============================] - 9s 188us/step - loss: 1.0871 - acc: 0.6257 - val_loss: 1.4262 - val_acc: 0.5042 - val_tp: 980.0000 - val_tn: 517.0000\n",
      "Epoch 23/25\n",
      "50000/50000 [==============================] - 10s 201us/step - loss: 1.0692 - acc: 0.6328 - val_loss: 1.4291 - val_acc: 0.4989 - val_tp: 982.0000 - val_tn: 506.0000\n",
      "Epoch 24/25\n",
      "50000/50000 [==============================] - 9s 185us/step - loss: 1.0519 - acc: 0.6399 - val_loss: 1.4335 - val_acc: 0.4944 - val_tp: 973.0000 - val_tn: 562.0000\n",
      "Epoch 25/25\n",
      "50000/50000 [==============================] - 9s 184us/step - loss: 1.0368 - acc: 0.6449 - val_loss: 1.4411 - val_acc: 0.4948 - val_tp: 971.0000 - val_tn: 556.0000\n"
     ]
    }
   ],
   "source": [
    "model = build_mlp(input_shape=x_train.shape[1:])\n",
    "model.summary()\n",
    "optimizer = keras.optimizers.SGD(lr=LEARNING_RATE, nesterov=True, momentum=MOMENTUM)\n",
    "model.compile(loss=\"categorical_crossentropy\", metrics=[\"accuracy\"], optimizer=optimizer)\n",
    "\n",
    "\"\"\"Code Here\n",
    "將 callbacks 放入模型訓練流程中\n",
    "\"\"\"\n",
    "model.fit(x_train, y_train, \n",
    "          epochs=EPOCHS, \n",
    "          batch_size=BATCH_SIZE, \n",
    "          validation_data=(x_test, y_test), \n",
    "          shuffle=True,\n",
    "          callbacks=[rec_tptn]\n",
    "         )\n",
    "\n",
    "# Collect results\n",
    "train_loss = model.history.history[\"loss\"]\n",
    "valid_loss = model.history.history[\"val_loss\"]\n",
    "train_acc = model.history.history[\"acc\"]\n",
    "valid_acc = model.history.history[\"val_acc\"]\n",
    "\n",
    "\"\"\"Code Here\n",
    "將 tp/tn 從訓練完的模型中取出\n",
    "\"\"\"\n",
    "valid_tp = model.history.history['val_tp']\n",
    "valid_tn = model.history.history['val_tn']"
   ]
  },
  {
   "cell_type": "code",
   "execution_count": 21,
   "metadata": {},
   "outputs": [
    {
     "data": {
      "image/png": "[encoded data removed]",
      "text/plain": [
       "<Figure size 432x288 with 1 Axes>"
      ]
     },
     "metadata": {
      "needs_background": "light"
     },
     "output_type": "display_data"
    },
    {
     "data": {
      "image/png": "[encoded data removed]",
      "text/plain": [
       "<Figure size 432x288 with 1 Axes>"
      ]
     },
     "metadata": {
      "needs_background": "light"
     },
     "output_type": "display_data"
    },
    {
     "data": {
      "image/png": "[encoded data removed]",
      "text/plain": [
       "<Figure size 432x288 with 1 Axes>"
      ]
     },
     "metadata": {
      "needs_background": "light"
     },
     "output_type": "display_data"
    }
   ],
   "source": [
    "import matplotlib.pyplot as plt\n",
    "%matplotlib inline\n",
    "\n",
    "plt.plot(range(len(train_loss)), train_loss, label=\"train loss\")\n",
    "plt.plot(range(len(valid_loss)), valid_loss, label=\"valid loss\")\n",
    "plt.legend()\n",
    "plt.title(\"Loss\")\n",
    "plt.show()\n",
    "\n",
    "plt.plot(range(len(train_acc)), train_acc, label=\"train accuracy\")\n",
    "plt.plot(range(len(valid_acc)), valid_acc, label=\"valid accuracy\")\n",
    "plt.legend()\n",
    "plt.title(\"Accuracy\")\n",
    "plt.show()\n",
    "\n",
    "plt.plot(range(len(valid_tp)), valid_tp, label=\"valid tp\", color=\"navy\")\n",
    "plt.plot(range(len(valid_tn)), valid_tn, label=\"valid tn\", color=\"red\")\n",
    "plt.legend()\n",
    "plt.title(\"True positives and True Negatives\")\n",
    "plt.show()\n"
   ]
  },
  {
   "cell_type": "code",
   "execution_count": null,
   "metadata": {
    "collapsed": true
   },
   "outputs": [],
   "source": []
  }
 ],
 "metadata": {
  "kernelspec": {
   "display_name": "Python 3",
   "language": "python",
   "name": "python3"
  },
  "language_info": {
   "codemirror_mode": {
    "name": "ipython",
    "version": 3
   },
   "file_extension": ".py",
   "mimetype": "text/x-python",
   "name": "python",
   "nbconvert_exporter": "python",
   "pygments_lexer": "ipython3",
   "version": "3.6.6"
  }
 },
 "nbformat": 4,
 "nbformat_minor": 2
}
