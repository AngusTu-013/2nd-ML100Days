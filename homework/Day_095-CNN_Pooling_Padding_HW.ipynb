{
 "cells": [
  {
   "cell_type": "markdown",
   "metadata": {},
   "source": [
    "# 作業目標:\n",
    "    了解 Padding 的作法\n",
    "    \n",
    "    了解 Pooling 的作法"
   ]
  },
  {
   "cell_type": "markdown",
   "metadata": {},
   "source": [
    "# 作業重點:\n",
    "    (1) 調整Padding 的設定, 看 Pad 後的結果\n",
    "    \n",
    "    (2) 調整Pooling 的設定, 看 Poolin 後的結果"
   ]
  },
  {
   "cell_type": "code",
   "execution_count": 1,
   "metadata": {},
   "outputs": [
    {
     "name": "stderr",
     "output_type": "stream",
     "text": [
      "C:\\ProgramData\\Anaconda3\\lib\\site-packages\\h5py\\__init__.py:34: FutureWarning: Conversion of the second argument of issubdtype from `float` to `np.floating` is deprecated. In future, it will be treated as `np.float64 == np.dtype(float).type`.\n",
      "  from ._conv import register_converters as _register_converters\n"
     ]
    }
   ],
   "source": [
    "import numpy as np\n",
    "import h5py\n",
    "import matplotlib.pyplot as plt\n",
    "\n",
    "# 繪圖結果直接顯示在Jupyter cell 之內\n",
    "%matplotlib inline  \n",
    "plt.rcParams['figure.figsize'] = (5.0, 4.0) #  設定繪圖板的大小\n",
    "plt.rcParams['image.interpolation'] = 'nearest'\n",
    "plt.rcParams['image.cmap'] = 'gray'\n",
    "\n",
    "# autoreload。可以讓我們不退出IPython就動態修改代碼，在執行代碼前IPython會幫我們自動重載改動的模塊\n",
    "%load_ext autoreload\n",
    "%autoreload 2\n",
    "np.random.seed(1)"
   ]
  },
  {
   "cell_type": "code",
   "execution_count": 2,
   "metadata": {
    "collapsed": true
   },
   "outputs": [],
   "source": [
    "# GRADED FUNCTION: zero_pad\n",
    "def zero_pad(X, pad):\n",
    "    \"\"\"\n",
    "    對image X 做 zero-padding. \n",
    "    參數定義如下:\n",
    "    X -- python numpy array, 呈現維度 (m, n_H, n_W, n_C), 代表一批 m 個圖像\n",
    "         n_H: 圖高, n_W: 圖寬, n_C: color channels 數\n",
    "    pad -- 整數, 加幾圈的 zero padding.\n",
    "    Returns:\n",
    "    X_pad -- image of shape (m, n_H + 2*pad, n_W + 2*pad, n_C) 做完zero-padding 的結果\n",
    "    \"\"\"\n",
    "    \n",
    "    X_pad = np.pad(X, ((0, 0), (pad, pad), (pad, pad), (0, 0)), 'constant', constant_values=(0, 0))\n",
    "  \n",
    "    return X_pad"
   ]
  },
  {
   "cell_type": "code",
   "execution_count": 12,
   "metadata": {},
   "outputs": [
    {
     "name": "stdout",
     "output_type": "stream",
     "text": [
      "x.shape = (10, 5, 5, 3)\n",
      "x_pad.shape = (10, 7, 7, 3)\n",
      "x[1,1] = [[ 1.19891788  0.18515642 -0.37528495]\n",
      " [-0.63873041  0.42349435  0.07734007]\n",
      " [-0.34385368  0.04359686 -0.62000084]\n",
      " [ 0.69803203 -0.44712856  1.2245077 ]\n",
      " [ 0.40349164  0.59357852 -1.09491185]]\n",
      "x_pad[1,1] = [[ 0.          0.          0.        ]\n",
      " [-2.02220122 -0.30620401  0.82797464]\n",
      " [ 0.23009474  0.76201118 -0.22232814]\n",
      " [-0.20075807  0.18656139  0.41005165]\n",
      " [ 0.19829972  0.11900865 -0.67066229]\n",
      " [ 0.37756379  0.12182127  1.12948391]\n",
      " [ 0.          0.          0.        ]]\n"
     ]
    },
    {
     "data": {
      "text/plain": [
       "<matplotlib.image.AxesImage at 0x14d2ab00>"
      ]
     },
     "execution_count": 12,
     "metadata": {},
     "output_type": "execute_result"
    },
    {
     "data": {
      "image/png": "[encoded data removed]",
      "text/plain": [
       "<Figure size 432x288 with 2 Axes>"
      ]
     },
     "metadata": {
      "needs_background": "light"
     },
     "output_type": "display_data"
    }
   ],
   "source": [
    "'''\n",
    "作業修改\n",
    "'''\n",
    "np.random.seed(1)\n",
    "x = np.random.randn(10, 5, 5, 3) #產生gray image\n",
    "x_pad = zero_pad(x, 1) # 加兩圈 Pad\n",
    "\n",
    "print (\"x.shape =\", x.shape)\n",
    "print (\"x_pad.shape =\", x_pad.shape)\n",
    "print (\"x[1,1] =\", x[1,1])\n",
    "print (\"x_pad[1,1] =\", x_pad[1,1])\n",
    "fig, axarr = plt.subplots(1, 2)\n",
    "axarr[0].set_title('x')\n",
    "axarr[0].imshow(x[0,:,:,0])\n",
    "axarr[1].set_title('x_pad')\n",
    "axarr[1].imshow(x_pad[0,:,:,0])"
   ]
  },
  {
   "cell_type": "code",
   "execution_count": 14,
   "metadata": {
    "collapsed": true
   },
   "outputs": [],
   "source": [
    "# GRADED FUNCTION: pool_forward\n",
    "def pool_forward(A_prev, hparameters, mode = \"max\"):\n",
    "    \"\"\"\n",
    "    設計一個前行網路的池化層\n",
    "    參數定義如下:\n",
    "    A_prev -- 輸入的numpy 陣列, 維度 (m, n_H_prev, n_W_prev, n_C_prev)\n",
    "    hparameter 超參數 --  \"f\" and \"stride\" 所形成的python 字典\n",
    "    mode -- 池化的模式: \"max\" or \"average\"\n",
    "    \n",
    "    返回:\n",
    "        A -- 輸出的池化層, 維度為 (m, n_H, n_W, n_C) 的 numpy 陣列\n",
    "        cache -- 可以應用在 backward pass pooling layer 資料, 包含 input and hparameter\n",
    "    \"\"\"\n",
    "\n",
    "    # 檢索尺寸 from the input shape\n",
    "    (m, n_H_prev, n_W_prev, n_C_prev) = A_prev.shape\n",
    " \n",
    "    # 檢索超參數 from \"hparameters\"\n",
    "    f = hparameters[\"f\"]\n",
    "    stride = hparameters[\"stride\"]\n",
    "\n",
    "    # 定義輸出的dimensions\n",
    "    n_H = int(1 + (n_H_prev - f) / stride)\n",
    "    n_W = int(1 + (n_W_prev - f) / stride)\n",
    "    n_C = n_C_prev\n",
    "\n",
    "    # 初始化輸出的 matrix A\n",
    "    A = np.zeros((m, n_H, n_W, n_C))\n",
    "\n",
    "    ### 程式起始位置  ###\n",
    "    for i in range(m): # 訓練樣本的for 迴圈\n",
    "        for h in range(n_H): # 輸出樣本的for 迴圈, 針對vertical axis\n",
    "            for w in range(n_W): #  輸出樣本的for 迴圈, 針對 horizontal axis\n",
    "                for c in range (n_C): #  輸出樣本的for 迴圈, 針對channels\n",
    "\n",
    "                     # 找出特徵圖的寬度跟高度四個點\n",
    "                    vert_start = h * stride\n",
    "                    vert_end = h * stride+ f\n",
    "                    horiz_start = w * stride\n",
    "                    horiz_end = w * stride + f\n",
    "\n",
    "                    # 定義第i個訓練示例\n",
    "                    a_prev_slice = A_prev[i, vert_start:vert_end, horiz_start:horiz_end,c]\n",
    "\n",
    "                    # 計算輸入data 的池化結果. 使用 if statment 去做分類\n",
    "                    if mode == \"max\":\n",
    "                        A[i, h, w, c] = np.max(a_prev_slice)\n",
    "                    elif mode == \"average\":\n",
    "                        A[i, h, w, c] = np.mean(a_prev_slice)\n",
    "\n",
    "                        ### 程式結束  ###\n",
    "    \n",
    "    # 儲存輸入的特徵圖跟所設定的超參數, 可以用在 pool_backward()\n",
    "    cache = (A_prev, hparameters)\n",
    "    \n",
    "    # 確認輸出的資料維度\n",
    "    assert(A.shape == (m, n_H, n_W, n_C))\n",
    "    return A, cache"
   ]
  },
  {
   "cell_type": "code",
   "execution_count": 25,
   "metadata": {},
   "outputs": [
    {
     "name": "stdout",
     "output_type": "stream",
     "text": [
      "mode = max\n",
      "A = [[[[ 1.62434536  0.86540763 -0.0126646 ]\n",
      "   [ 1.74481176  1.46210794  1.65980218]\n",
      "   [-0.3224172   1.6924546   2.10025514]\n",
      "   [ 1.14472371  0.90159072  0.50249434]\n",
      "   [ 0.93110208  0.58662319  0.88514116]]\n",
      "\n",
      "  [[ 1.19891788  1.25286816  0.51292982]\n",
      "   [ 1.13162939  1.51981682  2.18557541]\n",
      "   [ 0.40349164  0.87616892  0.82797464]\n",
      "   [ 0.31515939  0.84616065  0.41005165]\n",
      "   [ 0.37756379  1.12141771  1.12948391]]\n",
      "\n",
      "  [[ 2.18697965  0.44136444  1.27375593]\n",
      "   [ 1.62765075  0.3380117   0.01740941]\n",
      "   [ 0.24879916  0.98633519  0.79280687]\n",
      "   [ 2.19069973  2.52832571  0.75041164]\n",
      "   [ 0.61838026  0.68006984  1.33145711]]\n",
      "\n",
      "  [[ 1.29322588  0.31354772  1.11438298]\n",
      "   [ 0.62336218  1.6169496   1.40754   ]\n",
      "   [ 2.44936865  1.1110567   0.6590498 ]\n",
      "   [ 0.82400562  1.04444209  1.95487808]\n",
      "   [-0.12046457 -1.1191154   1.9560789 ]]\n",
      "\n",
      "  [[ 0.88490881  1.54335911  0.75880566]\n",
      "   [ 1.39984394  1.23225307  1.81053491]\n",
      "   [ 0.21112476  2.05117344  0.585662  ]\n",
      "   [ 0.42952614  0.79502609  0.10622272]\n",
      "   [ 0.78477065  1.20205486  0.58591043]]]\n",
      "\n",
      "\n",
      " [[[ 2.06578332  1.45142926  1.62284909]\n",
      "   [ 0.01335268  1.12341216  1.27852808]\n",
      "   [ 1.3887794   0.65458015  3.03085711]\n",
      "   [ 0.92001793  0.28267571  1.01012718]\n",
      "   [ 1.19268607  0.9561217   1.15528789]]\n",
      "\n",
      "  [[ 0.47761018  1.76795995  0.79452824]\n",
      "   [ 2.11060505  0.92061512  0.58464661]\n",
      "   [ 0.85328122  2.13782807  1.83471763]\n",
      "   [ 2.05635552  1.76024923  0.85270406]\n",
      "   [ 1.11584111  0.31027229 -0.11598519]]\n",
      "\n",
      "  [[-0.22876583  2.0546241   0.6743961 ]\n",
      "   [-0.42914228  1.20845633  1.1157018 ]\n",
      "   [ 1.04499441  0.6085147   1.7653351 ]\n",
      "   [ 0.8709698   1.78975468  1.86647138]\n",
      "   [ 1.00088142  0.45112294  1.45810824]]\n",
      "\n",
      "  [[ 1.69380911  1.46089238  0.5924728 ]\n",
      "   [ 1.19783084  1.70459417  1.04008915]\n",
      "   [ 0.71304905  1.76041518  0.96653925]\n",
      "   [ 0.63658341  1.40925339  1.62091229]\n",
      "   [ 0.08968641  0.1892932   0.68400133]]\n",
      "\n",
      "  [[ 1.85300949  0.64435367  0.51350548]\n",
      "   [ 1.1010002   1.22895559  1.30970591]\n",
      "   [ 1.03298378  1.74643509  1.47016034]\n",
      "   [ 0.14164054  1.38631426  1.71066184]\n",
      "   [ 0.98635218  3.9586027   1.38499134]]]]\n",
      "\n",
      "mode = average\n",
      "A = [[[[-0.24637241 -0.20358711 -0.88238694]\n",
      "   [ 0.2800438   0.1858703  -0.2422321 ]\n",
      "   [-0.7016156   0.33172188  0.60174348]\n",
      "   [ 0.23871164  0.23977271 -0.16182431]\n",
      "   [ 0.17182359 -0.01985136  0.53289745]]\n",
      "\n",
      "  [[-0.12307583  0.58750927  0.03485331]\n",
      "   [ 0.02232785 -0.08195717  0.5714041 ]\n",
      "   [-0.32232252  0.47602497 -0.22625071]\n",
      "   [ 0.01956939  0.45683694 -0.51122744]\n",
      "   [-0.17234072  0.01249105  0.20725666]]\n",
      "\n",
      "  [[ 0.95483692 -1.1566542   0.86214733]\n",
      "   [ 0.30813315 -0.11976431 -0.69570152]\n",
      "   [-0.44487322  0.44020197  0.08930268]\n",
      "   [ 0.94807544  0.38685456 -0.0829274 ]\n",
      "   [ 0.22605168  0.20598784  0.44300701]]\n",
      "\n",
      "  [[-0.22308908 -0.59410712  0.46901116]\n",
      "   [ 0.31052804  0.64576714  0.64010967]\n",
      "   [ 1.07134864  0.31925113 -0.08481257]\n",
      "   [ 0.28409724  0.23494063  0.89720688]\n",
      "   [-0.75218159 -1.44678013 -0.01298267]]\n",
      "\n",
      "  [[-0.04348011 -0.12655594  0.14095962]\n",
      "   [-0.18205497 -0.08445444  0.22200158]\n",
      "   [-0.88278113  1.23166997  0.29748298]\n",
      "   [-0.56736217  0.19032284 -0.28386818]\n",
      "   [ 0.27419457  0.05644176  0.13867224]]]\n",
      "\n",
      "\n",
      " [[[ 0.37914452  0.20587573 -0.20559486]\n",
      "   [-1.18445425 -0.48137744 -0.07521051]\n",
      "   [ 0.44492092  0.03714111  0.67387421]\n",
      "   [-0.03542122 -0.48903324  0.21336146]\n",
      "   [ 0.23055083 -0.06694532 -0.0166842 ]]\n",
      "\n",
      "  [[-0.2884864   0.36220145 -0.22408864]\n",
      "   [ 0.26919798 -0.78664765  0.03924634]\n",
      "   [ 0.46784007  0.20380781 -0.05096055]\n",
      "   [ 0.19685148  0.51010498  0.01560503]\n",
      "   [-0.21378383 -0.64634627 -0.88027804]]\n",
      "\n",
      "  [[-0.55834034  1.4712788  -0.13715838]\n",
      "   [-0.58115241  0.48410852 -0.12316117]\n",
      "   [ 0.43194033  0.35560657  0.96914841]\n",
      "   [-0.03075425 -0.01946768  1.11132035]\n",
      "   [-0.2879172  -0.00658877 -0.5100934 ]]\n",
      "\n",
      "  [[ 0.42994641  0.30906433 -0.19075877]\n",
      "   [ 0.14442976  0.89989146  0.3279105 ]\n",
      "   [-0.10051221  1.01186176 -0.86357663]\n",
      "   [-0.30504823  0.08507834 -0.0018404 ]\n",
      "   [-0.20292594 -0.64789818  0.25953335]]\n",
      "\n",
      "  [[ 0.49559908 -0.54300964 -0.594974  ]\n",
      "   [ 0.01065709  0.42071518 -0.25339807]\n",
      "   [ 0.22580634 -0.00498791  0.42833357]\n",
      "   [-0.29430018 -0.06246534  0.62910143]\n",
      "   [-0.12720263  0.88688815  0.69427097]]]]\n"
     ]
    }
   ],
   "source": [
    "'''\n",
    "作業修改\n",
    "np.random.seed(1)\n",
    "A_prev = \n",
    "hparameters = \n",
    "'''\n",
    "np.random.seed(1)\n",
    "A_prev = np.random.randn(2, 10, 10, 3)\n",
    "hparameters = {\"stride\" : 2, \"f\": 2}\n",
    "\n",
    "A, cache = pool_forward(A_prev, hparameters)\n",
    "print(\"mode = max\")\n",
    "print(\"A =\", A)\n",
    "print()\n",
    "A, cache = pool_forward(A_prev, hparameters, mode = \"average\")\n",
    "print(\"mode = average\")\n",
    "print(\"A =\", A)"
   ]
  },
  {
   "cell_type": "code",
   "execution_count": null,
   "metadata": {
    "collapsed": true
   },
   "outputs": [],
   "source": []
  }
 ],
 "metadata": {
  "kernelspec": {
   "display_name": "Python 3",
   "language": "python",
   "name": "python3"
  },
  "language_info": {
   "codemirror_mode": {
    "name": "ipython",
    "version": 3
   },
   "file_extension": ".py",
   "mimetype": "text/x-python",
   "name": "python",
   "nbconvert_exporter": "python",
   "pygments_lexer": "ipython3",
   "version": "3.6.6"
  }
 },
 "nbformat": 4,
 "nbformat_minor": 2
}
