{
 "cells": [
  {
   "cell_type": "markdown",
   "metadata": {},
   "source": [
    "### 作業\n",
    "目前已經學過許多的模型，相信大家對整體流程應該比較掌握了，這次作業請改用**手寫辨識資料集**，步驟流程都是一樣的，請試著自己撰寫程式碼來完成所有步驟"
   ]
  },
  {
   "cell_type": "code",
   "execution_count": 83,
   "metadata": {},
   "outputs": [],
   "source": [
    "from sklearn import datasets, metrics\n",
    "digits = datasets.load_digits()\n",
    "#digits"
   ]
  },
  {
   "cell_type": "code",
   "execution_count": 94,
   "metadata": {},
   "outputs": [
    {
     "name": "stdout",
     "output_type": "stream",
     "text": [
      "Acuuracy:  0.9805555555555555\n",
      "Misclassified sample: 7\n",
      "target names: [0 1 2 3 4 5 6 7 8 9]\n",
      "confusion matrix:\n",
      "[[28  0  0  0  0  0  0  0  0  0]\n",
      " [ 0 40  0  0  0  0  0  0  0  0]\n",
      " [ 0  0 38  0  0  0  0  0  0  0]\n",
      " [ 0  0  0 36  0  0  0  0  0  0]\n",
      " [ 0  0  0  0 42  1  0  1  0  0]\n",
      " [ 0  0  0  0  0 41  0  0  0  0]\n",
      " [ 0  0  0  0  0  0 32  0  1  0]\n",
      " [ 0  0  0  0  1  0  0 33  0  0]\n",
      " [ 0  1  0  0  0  1  0  0 30  0]\n",
      " [ 0  0  0  0  0  0  0  1  0 33]]\n"
     ]
    }
   ],
   "source": [
    "from sklearn.model_selection import train_test_split\n",
    "from sklearn.ensemble import GradientBoostingClassifier, RandomForestClassifier\n",
    "import numpy as np\n",
    "\n",
    "x_train, x_test, y_train, y_test = train_test_split(digits.data, digits.target, test_size=0.2, random_state=1234)\n",
    "\n",
    "gbdt = GradientBoostingClassifier(learning_rate=0.2, n_estimators=100, max_depth=3, random_state=0)\n",
    "gbdt.fit(x_train, y_train)\n",
    "y_pred = gbdt.predict(x_test)\n",
    "#print(y_pred)\n",
    "\n",
    "acc = metrics.accuracy_score(y_test, y_pred)\n",
    "print(\"Acuuracy: \", acc)\n",
    "print(\"Misclassified sample: %d\" % (y_test != y_pred).sum())\n",
    "\n",
    "#print(\"Feature importance: \", gbdt.feature_importances_)\n",
    "\n",
    "y_pred_ave = gbdt.predict_proba(x_test)\n",
    "y_pred_ave = np.argmax(y_pred_ave, axis=1)\n",
    "confmat = metrics.confusion_matrix(y_test, y_pred_ave)\n",
    "print('target names: ' + str(digits.target_names))\n",
    "print('confusion matrix:')\n",
    "print(confmat)"
   ]
  },
  {
   "cell_type": "code",
   "execution_count": null,
   "metadata": {
    "collapsed": true
   },
   "outputs": [],
   "source": []
  }
 ],
 "metadata": {
  "kernelspec": {
   "display_name": "Python 3",
   "language": "python",
   "name": "python3"
  },
  "language_info": {
   "codemirror_mode": {
    "name": "ipython",
    "version": 3
   },
   "file_extension": ".py",
   "mimetype": "text/x-python",
   "name": "python",
   "nbconvert_exporter": "python",
   "pygments_lexer": "ipython3",
   "version": "3.6.3"
  }
 },
 "nbformat": 4,
 "nbformat_minor": 2
}
