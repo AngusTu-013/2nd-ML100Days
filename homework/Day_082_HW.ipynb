{
 "cells": [
  {
   "cell_type": "markdown",
   "metadata": {},
   "source": [
    "## Work\n",
    "1. 請比較使用不同層數以及不同 Dropout rate 對訓練的效果\n",
    "2. 將 optimizer 改成使用 Adam 並加上適當的 dropout rate 檢視結果"
   ]
  },
  {
   "cell_type": "code",
   "execution_count": 1,
   "metadata": {},
   "outputs": [
    {
     "name": "stderr",
     "output_type": "stream",
     "text": [
      "C:\\ProgramData\\Anaconda3\\lib\\site-packages\\h5py\\__init__.py:34: FutureWarning: Conversion of the second argument of issubdtype from `float` to `np.floating` is deprecated. In future, it will be treated as `np.float64 == np.dtype(float).type`.\n",
      "  from ._conv import register_converters as _register_converters\n",
      "Using TensorFlow backend.\n"
     ]
    }
   ],
   "source": [
    "import os\n",
    "import keras\n",
    "import itertools\n",
    "# Disable GPU\n",
    "os.environ[\"CUDA_VISIBLE_DEVICES\"] = \"\""
   ]
  },
  {
   "cell_type": "code",
   "execution_count": 2,
   "metadata": {
    "collapsed": true
   },
   "outputs": [],
   "source": [
    "train, test = keras.datasets.cifar10.load_data()"
   ]
  },
  {
   "cell_type": "code",
   "execution_count": 3,
   "metadata": {
    "collapsed": true
   },
   "outputs": [],
   "source": [
    "## 資料前處理\n",
    "def preproc_x(x, flatten=True):\n",
    "    x = x / 255.\n",
    "    if flatten:\n",
    "        x = x.reshape((len(x), -1))\n",
    "    return x\n",
    "\n",
    "def preproc_y(y, num_classes=10):\n",
    "    if y.shape[-1] == 1:\n",
    "        y = keras.utils.to_categorical(y, num_classes)\n",
    "    return y    "
   ]
  },
  {
   "cell_type": "code",
   "execution_count": 4,
   "metadata": {
    "collapsed": true
   },
   "outputs": [],
   "source": [
    "x_train, y_train = train\n",
    "x_test, y_test = test\n",
    "\n",
    "# Preproc the inputs\n",
    "x_train = preproc_x(x_train)\n",
    "x_test = preproc_x(x_test)\n",
    "\n",
    "# Preprc the outputs\n",
    "y_train = preproc_y(y_train)\n",
    "y_test = preproc_y(y_test)"
   ]
  },
  {
   "cell_type": "code",
   "execution_count": 26,
   "metadata": {
    "collapsed": true
   },
   "outputs": [],
   "source": [
    "from keras.layers import Dropout\n",
    "\n",
    "\"\"\"\n",
    "建立神經網路，並加入 dropout layer\n",
    "\"\"\"\n",
    "def build_mlp(input_shape, output_units=10, num_neurons=[512, 256, 128, 128], drp_ratio=0.25):\n",
    "    input_layer = keras.layers.Input(input_shape)\n",
    "    \n",
    "    for i, n_units in enumerate(num_neurons):\n",
    "        if i == 0:\n",
    "            x = keras.layers.Dense(units=n_units, \n",
    "                                   activation=\"relu\", \n",
    "                                   name=\"hidden_layer\"+str(i+1))(input_layer)\n",
    "            x = Dropout(drp_ratio)(x)\n",
    "        else:\n",
    "            x = keras.layers.Dense(units=n_units, \n",
    "                                   activation=\"relu\", \n",
    "                                   name=\"hidden_layer\"+str(i+1))(x)\n",
    "            x = Dropout(drp_ratio)(x)\n",
    "    \n",
    "    out = keras.layers.Dense(units=output_units, activation=\"softmax\", name=\"output\")(x)\n",
    "    \n",
    "    model = keras.models.Model(inputs=[input_layer], outputs=[out])\n",
    "    return model"
   ]
  },
  {
   "cell_type": "code",
   "execution_count": 27,
   "metadata": {
    "collapsed": true
   },
   "outputs": [],
   "source": [
    "## 超參數設定\n",
    "\"\"\"Code Here\n",
    "設定超參數\n",
    "\"\"\"\n",
    "LEARNING_RATE = 1e-3\n",
    "EPOCHS = 50\n",
    "BATCH_SIZE = 256\n",
    "MOMENTUM = 0.95\n",
    "Dropout_EXP = 0.25"
   ]
  },
  {
   "cell_type": "code",
   "execution_count": 28,
   "metadata": {},
   "outputs": [
    {
     "name": "stdout",
     "output_type": "stream",
     "text": [
      "_________________________________________________________________\n",
      "Layer (type)                 Output Shape              Param #   \n",
      "=================================================================\n",
      "input_3 (InputLayer)         (None, 3072)              0         \n",
      "_________________________________________________________________\n",
      "hidden_layer1 (Dense)        (None, 512)               1573376   \n",
      "_________________________________________________________________\n",
      "dropout_8 (Dropout)          (None, 512)               0         \n",
      "_________________________________________________________________\n",
      "hidden_layer2 (Dense)        (None, 256)               131328    \n",
      "_________________________________________________________________\n",
      "dropout_9 (Dropout)          (None, 256)               0         \n",
      "_________________________________________________________________\n",
      "hidden_layer3 (Dense)        (None, 128)               32896     \n",
      "_________________________________________________________________\n",
      "dropout_10 (Dropout)         (None, 128)               0         \n",
      "_________________________________________________________________\n",
      "hidden_layer4 (Dense)        (None, 128)               16512     \n",
      "_________________________________________________________________\n",
      "dropout_11 (Dropout)         (None, 128)               0         \n",
      "_________________________________________________________________\n",
      "output (Dense)               (None, 10)                1290      \n",
      "=================================================================\n",
      "Total params: 1,755,402\n",
      "Trainable params: 1,755,402\n",
      "Non-trainable params: 0\n",
      "_________________________________________________________________\n",
      "Train on 50000 samples, validate on 10000 samples\n",
      "Epoch 1/50\n",
      "50000/50000 [==============================] - 21s 425us/step - loss: 2.1082 - acc: 0.2052 - val_loss: 1.9304 - val_acc: 0.3115\n",
      "Epoch 2/50\n",
      "50000/50000 [==============================] - 21s 411us/step - loss: 1.9169 - acc: 0.2977 - val_loss: 1.7811 - val_acc: 0.3553\n",
      "Epoch 3/50\n",
      "50000/50000 [==============================] - 21s 419us/step - loss: 1.8594 - acc: 0.3253 - val_loss: 1.7820 - val_acc: 0.366416 - ac\n",
      "Epoch 4/50\n",
      "50000/50000 [==============================] - 22s 433us/step - loss: 1.8309 - acc: 0.3349 - val_loss: 1.7372 - val_acc: 0.3763\n",
      "Epoch 5/50\n",
      "50000/50000 [==============================] - 21s 419us/step - loss: 1.8153 - acc: 0.3415 - val_loss: 1.7177 - val_acc: 0.3844\n",
      "Epoch 6/50\n",
      "50000/50000 [==============================] - 22s 431us/step - loss: 1.7835 - acc: 0.3533 - val_loss: 1.6973 - val_acc: 0.4044\n",
      "Epoch 7/50\n",
      "50000/50000 [==============================] - 20s 406us/step - loss: 1.7571 - acc: 0.3648 - val_loss: 1.6915 - val_acc: 0.3909\n",
      "Epoch 8/50\n",
      "50000/50000 [==============================] - 21s 421us/step - loss: 1.7450 - acc: 0.3683 - val_loss: 1.6657 - val_acc: 0.4047\n",
      "Epoch 9/50\n",
      "50000/50000 [==============================] - 21s 415us/step - loss: 1.7345 - acc: 0.3725 - val_loss: 1.6398 - val_acc: 0.4290\n",
      "Epoch 10/50\n",
      "50000/50000 [==============================] - 21s 411us/step - loss: 1.7157 - acc: 0.3792 - val_loss: 1.6233 - val_acc: 0.4278\n",
      "Epoch 11/50\n",
      "50000/50000 [==============================] - 21s 415us/step - loss: 1.7029 - acc: 0.3842 - val_loss: 1.6222 - val_acc: 0.4266\n",
      "Epoch 12/50\n",
      "50000/50000 [==============================] - 21s 415us/step - loss: 1.7020 - acc: 0.3876 - val_loss: 1.6219 - val_acc: 0.4240\n",
      "Epoch 13/50\n",
      "50000/50000 [==============================] - 21s 420us/step - loss: 1.6945 - acc: 0.3919 - val_loss: 1.5970 - val_acc: 0.4391\n",
      "Epoch 14/50\n",
      "50000/50000 [==============================] - 21s 411us/step - loss: 1.6850 - acc: 0.3952 - val_loss: 1.6049 - val_acc: 0.4356\n",
      "Epoch 15/50\n",
      "50000/50000 [==============================] - 20s 409us/step - loss: 1.6763 - acc: 0.3957 - val_loss: 1.6198 - val_acc: 0.4279\n",
      "Epoch 16/50\n",
      "50000/50000 [==============================] - 20s 399us/step - loss: 1.6652 - acc: 0.4035 - val_loss: 1.6105 - val_acc: 0.4394\n",
      "Epoch 17/50\n",
      "50000/50000 [==============================] - 20s 394us/step - loss: 1.6618 - acc: 0.4032 - val_loss: 1.5716 - val_acc: 0.4473\n",
      "Epoch 18/50\n",
      "50000/50000 [==============================] - 20s 396us/step - loss: 1.6564 - acc: 0.4024 - val_loss: 1.5604 - val_acc: 0.4582\n",
      "Epoch 19/50\n",
      "50000/50000 [==============================] - 20s 394us/step - loss: 1.6467 - acc: 0.4089 - val_loss: 1.5816 - val_acc: 0.4453\n",
      "Epoch 20/50\n",
      "50000/50000 [==============================] - 20s 397us/step - loss: 1.6420 - acc: 0.4097 - val_loss: 1.5608 - val_acc: 0.4519\n",
      "Epoch 21/50\n",
      "50000/50000 [==============================] - 20s 392us/step - loss: 1.6321 - acc: 0.4131 - val_loss: 1.5431 - val_acc: 0.4508\n",
      "Epoch 22/50\n",
      "50000/50000 [==============================] - 20s 392us/step - loss: 1.6325 - acc: 0.4129 - val_loss: 1.5666 - val_acc: 0.4554\n",
      "Epoch 23/50\n",
      "50000/50000 [==============================] - 20s 394us/step - loss: 1.6338 - acc: 0.4137 - val_loss: 1.5413 - val_acc: 0.4574\n",
      "Epoch 24/50\n",
      "50000/50000 [==============================] - 20s 394us/step - loss: 1.6294 - acc: 0.4163 - val_loss: 1.5702 - val_acc: 0.4538\n",
      "Epoch 25/50\n",
      "50000/50000 [==============================] - 20s 399us/step - loss: 1.6190 - acc: 0.4229 - val_loss: 1.5510 - val_acc: 0.4539\n",
      "Epoch 26/50\n",
      "50000/50000 [==============================] - 20s 397us/step - loss: 1.6066 - acc: 0.4249 - val_loss: 1.5345 - val_acc: 0.4613\n",
      "Epoch 27/50\n",
      "50000/50000 [==============================] - 20s 394us/step - loss: 1.6092 - acc: 0.4197 - val_loss: 1.5494 - val_acc: 0.4546\n",
      "Epoch 28/50\n",
      "50000/50000 [==============================] - 20s 391us/step - loss: 1.5991 - acc: 0.4242 - val_loss: 1.5395 - val_acc: 0.4554s - loss: 1.599\n",
      "Epoch 29/50\n",
      "50000/50000 [==============================] - 20s 394us/step - loss: 1.6010 - acc: 0.4265 - val_loss: 1.5143 - val_acc: 0.4636\n",
      "Epoch 30/50\n",
      "50000/50000 [==============================] - 21s 418us/step - loss: 1.5954 - acc: 0.4287 - val_loss: 1.5278 - val_acc: 0.4695\n",
      "Epoch 31/50\n",
      "50000/50000 [==============================] - 20s 406us/step - loss: 1.5906 - acc: 0.4300 - val_loss: 1.5224 - val_acc: 0.4668\n",
      "Epoch 32/50\n",
      "50000/50000 [==============================] - 20s 404us/step - loss: 1.6035 - acc: 0.4255 - val_loss: 1.5374 - val_acc: 0.4562\n",
      "Epoch 33/50\n",
      "50000/50000 [==============================] - 20s 402us/step - loss: 1.5877 - acc: 0.4311 - val_loss: 1.5410 - val_acc: 0.4528\n",
      "Epoch 34/50\n",
      "50000/50000 [==============================] - 21s 411us/step - loss: 1.5834 - acc: 0.4353 - val_loss: 1.5332 - val_acc: 0.4590\n",
      "Epoch 35/50\n",
      "50000/50000 [==============================] - 21s 410us/step - loss: 1.5814 - acc: 0.4350 - val_loss: 1.5132 - val_acc: 0.4677\n",
      "Epoch 36/50\n",
      "50000/50000 [==============================] - 21s 413us/step - loss: 1.5745 - acc: 0.4358 - val_loss: 1.5419 - val_acc: 0.4560\n",
      "Epoch 37/50\n",
      "50000/50000 [==============================] - 20s 407us/step - loss: 1.5737 - acc: 0.4375 - val_loss: 1.5202 - val_acc: 0.4633\n",
      "Epoch 38/50\n",
      "50000/50000 [==============================] - 20s 407us/step - loss: 1.5716 - acc: 0.4377 - val_loss: 1.5175 - val_acc: 0.4561\n",
      "Epoch 39/50\n",
      "50000/50000 [==============================] - 20s 409us/step - loss: 1.5729 - acc: 0.4371 - val_loss: 1.5356 - val_acc: 0.4564\n",
      "Epoch 40/50\n",
      "50000/50000 [==============================] - 20s 405us/step - loss: 1.5704 - acc: 0.4393 - val_loss: 1.5422 - val_acc: 0.4637\n",
      "Epoch 41/50\n",
      "50000/50000 [==============================] - 20s 402us/step - loss: 1.5665 - acc: 0.4412 - val_loss: 1.4929 - val_acc: 0.4731\n",
      "Epoch 42/50\n",
      "50000/50000 [==============================] - 21s 428us/step - loss: 1.5573 - acc: 0.4444 - val_loss: 1.5072 - val_acc: 0.4700\n",
      "Epoch 43/50\n",
      "50000/50000 [==============================] - 21s 426us/step - loss: 1.5766 - acc: 0.4364 - val_loss: 1.5344 - val_acc: 0.4599\n",
      "Epoch 44/50\n",
      "50000/50000 [==============================] - 21s 421us/step - loss: 1.5709 - acc: 0.4399 - val_loss: 1.4899 - val_acc: 0.4738\n",
      "Epoch 45/50\n",
      "50000/50000 [==============================] - 21s 420us/step - loss: 1.5519 - acc: 0.4422 - val_loss: 1.4866 - val_acc: 0.4744\n",
      "Epoch 46/50\n",
      "50000/50000 [==============================] - 21s 425us/step - loss: 1.5496 - acc: 0.4446 - val_loss: 1.5093 - val_acc: 0.4732\n",
      "Epoch 47/50\n"
     ]
    },
    {
     "name": "stdout",
     "output_type": "stream",
     "text": [
      "50000/50000 [==============================] - 21s 422us/step - loss: 1.5455 - acc: 0.4479 - val_loss: 1.5004 - val_acc: 0.4773\n",
      "Epoch 48/50\n",
      "50000/50000 [==============================] - 21s 417us/step - loss: 1.5531 - acc: 0.4442 - val_loss: 1.5008 - val_acc: 0.4714\n",
      "Epoch 49/50\n",
      "50000/50000 [==============================] - 21s 429us/step - loss: 1.5489 - acc: 0.4459 - val_loss: 1.4914 - val_acc: 0.4770\n",
      "Epoch 50/50\n",
      "50000/50000 [==============================] - 21s 430us/step - loss: 1.5491 - acc: 0.4466 - val_loss: 1.4966 - val_acc: 0.4744\n"
     ]
    }
   ],
   "source": [
    "model = build_mlp(input_shape=x_train.shape[1:], drp_ratio=Dropout_EXP)\n",
    "model.summary()\n",
    "#optimizer = keras.optimizers.SGD(lr=LEARNING_RATE, nesterov=True, momentum=MOMENTUM)\n",
    "optimizer = keras.optimizers.Adam(lr=LEARNING_RATE, epsilon=1e-5, decay=1e-6)\n",
    "model.compile(loss=\"categorical_crossentropy\", metrics=[\"accuracy\"], optimizer=optimizer)\n",
    "\n",
    "model.fit(x_train, y_train, \n",
    "          epochs=EPOCHS, \n",
    "          batch_size=BATCH_SIZE, \n",
    "          validation_data=(x_test, y_test), \n",
    "          shuffle=True)\n",
    "\n",
    "# Collect results\n",
    "train_loss = model.history.history[\"loss\"]\n",
    "valid_loss = model.history.history[\"val_loss\"]\n",
    "train_acc = model.history.history[\"acc\"]\n",
    "valid_acc = model.history.history[\"val_acc\"]"
   ]
  },
  {
   "cell_type": "code",
   "execution_count": 29,
   "metadata": {
    "scrolled": true
   },
   "outputs": [
    {
     "data": {
      "image/png": "[encoded data removed]",
      "text/plain": [
       "<Figure size 432x288 with 1 Axes>"
      ]
     },
     "metadata": {
      "needs_background": "light"
     },
     "output_type": "display_data"
    },
    {
     "data": {
      "image/png": "[encoded data removed]",
      "text/plain": [
       "<Figure size 432x288 with 1 Axes>"
      ]
     },
     "metadata": {
      "needs_background": "light"
     },
     "output_type": "display_data"
    }
   ],
   "source": [
    "results = {}\n",
    "import matplotlib.pyplot as plt\n",
    "%matplotlib inline\n",
    "\"\"\"Code Here\n",
    "將結果繪出\n",
    "\"\"\"\n",
    "\n",
    "plt.plot(range(len(train_loss)), train_loss, label=\"train loss\")\n",
    "plt.plot(range(len(valid_loss)), valid_loss, label=\"valid loss\")\n",
    "plt.legend()\n",
    "plt.title(\"Loss\")\n",
    "plt.show()\n",
    "\n",
    "plt.plot(range(len(train_acc)), train_acc, label=\"train accuracy\")\n",
    "plt.plot(range(len(valid_acc)), valid_acc, label=\"valid accuracy\")\n",
    "plt.legend()\n",
    "plt.title(\"Accuracy\")\n",
    "plt.show()"
   ]
  },
  {
   "cell_type": "code",
   "execution_count": null,
   "metadata": {
    "collapsed": true
   },
   "outputs": [],
   "source": []
  }
 ],
 "metadata": {
  "kernelspec": {
   "display_name": "Python 3",
   "language": "python",
   "name": "python3"
  },
  "language_info": {
   "codemirror_mode": {
    "name": "ipython",
    "version": 3
   },
   "file_extension": ".py",
   "mimetype": "text/x-python",
   "name": "python",
   "nbconvert_exporter": "python",
   "pygments_lexer": "ipython3",
   "version": "3.6.6"
  }
 },
 "nbformat": 4,
 "nbformat_minor": 2
}
