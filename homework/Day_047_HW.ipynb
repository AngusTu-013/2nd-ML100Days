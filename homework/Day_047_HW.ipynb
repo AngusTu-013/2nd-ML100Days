{
 "cells": [
  {
   "cell_type": "markdown",
   "metadata": {},
   "source": [
    "## [作業重點]\n",
    "了解如何使用 Sklearn 中的 hyper-parameter search 找出最佳的超參數"
   ]
  },
  {
   "cell_type": "markdown",
   "metadata": {},
   "source": [
    "### 作業\n",
    "請使用不同的資料集，並使用 hyper-parameter search 的方式，看能不能找出最佳的超參數組合"
   ]
  },
  {
   "cell_type": "code",
   "execution_count": 17,
   "metadata": {},
   "outputs": [
    {
     "name": "stdout",
     "output_type": "stream",
     "text": [
      "Acuuracy:  0.9722222222222222\n",
      "Misclassified sample: 10\n",
      "target names: [0 1 2 3 4 5 6 7 8 9]\n",
      "confusion matrix:\n",
      "[[28  0  0  0  0  0  0  0  0  0]\n",
      " [ 0 40  0  0  0  0  0  0  0  0]\n",
      " [ 0  0 37  0  0  0  0  0  1  0]\n",
      " [ 0  0  0 35  0  0  0  0  1  0]\n",
      " [ 0  0  0  0 42  1  0  1  0  0]\n",
      " [ 0  0  0  0  0 41  0  0  0  0]\n",
      " [ 0  0  0  0  0  0 32  0  1  0]\n",
      " [ 0  0  0  0  1  0  0 33  0  0]\n",
      " [ 0  1  0  0  0  1  0  0 30  0]\n",
      " [ 0  0  0  0  0  0  0  1  1 32]]\n"
     ]
    },
    {
     "data": {
      "text/plain": [
       "{'criterion': 'friedman_mse',\n",
       " 'init': None,\n",
       " 'learning_rate': 0.1,\n",
       " 'loss': 'deviance',\n",
       " 'max_depth': 3,\n",
       " 'max_features': None,\n",
       " 'max_leaf_nodes': None,\n",
       " 'min_impurity_decrease': 0.0,\n",
       " 'min_impurity_split': None,\n",
       " 'min_samples_leaf': 1,\n",
       " 'min_samples_split': 2,\n",
       " 'min_weight_fraction_leaf': 0.0,\n",
       " 'n_estimators': 100,\n",
       " 'presort': 'auto',\n",
       " 'random_state': None,\n",
       " 'subsample': 1.0,\n",
       " 'verbose': 0,\n",
       " 'warm_start': False}"
      ]
     },
     "execution_count": 17,
     "metadata": {},
     "output_type": "execute_result"
    }
   ],
   "source": [
    "from sklearn.model_selection import train_test_split, KFold, GridSearchCV\n",
    "from sklearn.ensemble import GradientBoostingClassifier, RandomForestClassifier\n",
    "\n",
    "import numpy as np\n",
    "from sklearn import datasets, metrics\n",
    "digits = datasets.load_digits()\n",
    "#digits\n",
    "\n",
    "x_train, x_test, y_train, y_test = train_test_split(digits.data, digits.target, test_size=0.2, random_state=1234)\n",
    "\n",
    "#gbdt = GradientBoostingClassifier(learning_rate=0.2, n_estimators=100, max_depth=3, random_state=0)\n",
    "gbdt = GradientBoostingClassifier()\n",
    "gbdt.fit(x_train, y_train)\n",
    "y_pred = gbdt.predict(x_test)\n",
    "#print(y_pred)\n",
    "\n",
    "acc = metrics.accuracy_score(y_test, y_pred)\n",
    "print(\"Acuuracy: \", acc)\n",
    "print(\"Misclassified sample: %d\" % (y_test != y_pred).sum())\n",
    "\n",
    "#print(\"Feature importance: \", gbdt.feature_importances_)\n",
    "\n",
    "y_pred_ave = gbdt.predict_proba(x_test)\n",
    "y_pred_ave = np.argmax(y_pred_ave, axis=1)\n",
    "confmat = metrics.confusion_matrix(y_test, y_pred_ave)\n",
    "print('target names: ' + str(digits.target_names))\n",
    "print('confusion matrix:')\n",
    "print(confmat)\n",
    "\n",
    "#查看當前超參數的內容:\n",
    "gbdt.get_params()"
   ]
  },
  {
   "cell_type": "markdown",
   "metadata": {},
   "source": [
    "### 設定要訓練的超參數組合"
   ]
  },
  {
   "cell_type": "code",
   "execution_count": 21,
   "metadata": {},
   "outputs": [
    {
     "name": "stdout",
     "output_type": "stream",
     "text": [
      "Fitting 3 folds for each of 27 candidates, totalling 81 fits\n"
     ]
    },
    {
     "name": "stderr",
     "output_type": "stream",
     "text": [
      "[Parallel(n_jobs=-1)]: Done  33 tasks      | elapsed:  1.1min\n",
      "[Parallel(n_jobs=-1)]: Done  81 out of  81 | elapsed:  2.1min finished\n"
     ]
    }
   ],
   "source": [
    " param_grid={\n",
    " 'learning_rate': [0.1, 0.2, 0.3],\n",
    " 'max_depth': [3,4,5],\n",
    " #'max_features': None,\n",
    " #'min_samples_leaf': [2, 3],\n",
    " #'min_samples_split': [2, 3, 4],\n",
    " 'n_estimators': [100, 200, 300],\n",
    " }\n",
    "\n",
    "\n",
    "## 建立搜尋物件，放入模型及參數組合字典 (n_jobs=-1 會使用全部 cpu 平行運算)\n",
    "grid_search = GridSearchCV(estimator=gbdt, param_grid=param_grid, scoring=\"neg_mean_squared_error\", cv=3, n_jobs=-1, verbose=2)\n",
    "\n",
    "# 開始搜尋最佳參數\n",
    "grid_result = grid_search.fit(x_train, y_train)\n",
    "\n",
    "# 預設會跑 3-fold cross-validadtion，總共 4200 種參數組合，總共要 train  12600次模型"
   ]
  },
  {
   "cell_type": "code",
   "execution_count": 22,
   "metadata": {},
   "outputs": [
    {
     "name": "stdout",
     "output_type": "stream",
     "text": [
      "Best Accuracy: -0.794711 using {'learning_rate': 0.2, 'max_depth': 3, 'n_estimators': 100}\n"
     ]
    }
   ],
   "source": [
    "# 印出最佳結果與最佳參數\n",
    "print(\"Best Accuracy: %f using %s\" % (grid_result.best_score_, grid_result.best_params_))"
   ]
  },
  {
   "cell_type": "code",
   "execution_count": 23,
   "metadata": {},
   "outputs": [
    {
     "name": "stdout",
     "output_type": "stream",
     "text": [
      "Acuuracy:  0.9805555555555555\n",
      "Misclassified sample: 7\n",
      "target names: [0 1 2 3 4 5 6 7 8 9]\n",
      "confusion matrix:\n",
      "[[28  0  0  0  0  0  0  0  0  0]\n",
      " [ 0 40  0  0  0  0  0  0  0  0]\n",
      " [ 0  0 38  0  0  0  0  0  0  0]\n",
      " [ 0  0  0 36  0  0  0  0  0  0]\n",
      " [ 0  0  0  0 42  1  0  1  0  0]\n",
      " [ 0  0  0  0  0 41  0  0  0  0]\n",
      " [ 0  0  0  0  0  0 32  0  1  0]\n",
      " [ 0  0  0  0  1  0  0 33  0  0]\n",
      " [ 0  1  0  0  0  1  0  0 30  0]\n",
      " [ 0  0  0  0  0  0  0  1  0 33]]\n"
     ]
    }
   ],
   "source": [
    "# 使用最佳參數重新建立模型\n",
    "clf_bestparam = GradientBoostingClassifier(learning_rate=grid_result.best_params_['learning_rate'],\n",
    "                                          max_depth=grid_result.best_params_['max_depth'],\n",
    "                                          n_estimators=grid_result.best_params_['n_estimators'])\n",
    "\n",
    "# 訓練模型\n",
    "clf_bestparam.fit(x_train, y_train)\n",
    "\n",
    "# 預測測試集\n",
    "y_pred = clf_bestparam.predict(x_test)\n",
    "\n",
    "#print(y_pred)\n",
    "\n",
    "acc = metrics.accuracy_score(y_test, y_pred)\n",
    "print(\"Acuuracy: \", acc)\n",
    "print(\"Misclassified sample: %d\" % (y_test != y_pred).sum())\n",
    "\n",
    "#print(\"Feature importance: \", gbdt.feature_importances_)\n",
    "\n",
    "y_pred_ave = clf_bestparam.predict_proba(x_test)\n",
    "y_pred_ave = np.argmax(y_pred_ave, axis=1)\n",
    "confmat = metrics.confusion_matrix(y_test, y_pred_ave)\n",
    "print('target names: ' + str(digits.target_names))\n",
    "print('confusion matrix:')\n",
    "print(confmat)\n",
    "\n",
    "#查看最佳超參數的內容:\n",
    "#clf_bestparam.get_params()"
   ]
  },
  {
   "cell_type": "code",
   "execution_count": null,
   "metadata": {
    "collapsed": true
   },
   "outputs": [],
   "source": []
  }
 ],
 "metadata": {
  "kernelspec": {
   "display_name": "Python 3",
   "language": "python",
   "name": "python3"
  },
  "language_info": {
   "codemirror_mode": {
    "name": "ipython",
    "version": 3
   },
   "file_extension": ".py",
   "mimetype": "text/x-python",
   "name": "python",
   "nbconvert_exporter": "python",
   "pygments_lexer": "ipython3",
   "version": "3.6.3"
  }
 },
 "nbformat": 4,
 "nbformat_minor": 2
}
