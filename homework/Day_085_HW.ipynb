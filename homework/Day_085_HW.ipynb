{
 "cells": [
  {
   "cell_type": "markdown",
   "metadata": {},
   "source": [
    "## Work\n",
    "1. 試改變 monitor \"Validation Accuracy\" 並比較結果\n",
    "2. 調整 earlystop 的等待次數至 10, 25 並比較結果"
   ]
  },
  {
   "cell_type": "code",
   "execution_count": 1,
   "metadata": {},
   "outputs": [
    {
     "name": "stderr",
     "output_type": "stream",
     "text": [
      "C:\\ProgramData\\Anaconda3\\lib\\site-packages\\h5py\\__init__.py:34: FutureWarning: Conversion of the second argument of issubdtype from `float` to `np.floating` is deprecated. In future, it will be treated as `np.float64 == np.dtype(float).type`.\n",
      "  from ._conv import register_converters as _register_converters\n",
      "Using TensorFlow backend.\n"
     ]
    }
   ],
   "source": [
    "import os\n",
    "import keras\n",
    "import matplotlib.pyplot as plt\n",
    "%matplotlib inline\n",
    "\n",
    "\n",
    "# Disable GPU\n",
    "os.environ[\"CUDA_VISIBLE_DEVICES\"] = \"\""
   ]
  },
  {
   "cell_type": "code",
   "execution_count": 2,
   "metadata": {
    "collapsed": true
   },
   "outputs": [],
   "source": [
    "train, test = keras.datasets.cifar10.load_data()"
   ]
  },
  {
   "cell_type": "code",
   "execution_count": 3,
   "metadata": {
    "collapsed": true
   },
   "outputs": [],
   "source": [
    "## 資料前處理\n",
    "def preproc_x(x, flatten=True):\n",
    "    x = x / 255.\n",
    "    if flatten:\n",
    "        x = x.reshape((len(x), -1))\n",
    "    return x\n",
    "\n",
    "def preproc_y(y, num_classes=10):\n",
    "    if y.shape[-1] == 1:\n",
    "        y = keras.utils.to_categorical(y, num_classes)\n",
    "    return y    "
   ]
  },
  {
   "cell_type": "code",
   "execution_count": 4,
   "metadata": {
    "collapsed": true
   },
   "outputs": [],
   "source": [
    "x_train, y_train = train\n",
    "x_test, y_test = test\n",
    "\n",
    "# Preproc the inputs\n",
    "x_train = preproc_x(x_train)\n",
    "x_test = preproc_x(x_test)\n",
    "\n",
    "# Preprc the outputs\n",
    "y_train = preproc_y(y_train)\n",
    "y_test = preproc_y(y_test)"
   ]
  },
  {
   "cell_type": "code",
   "execution_count": 5,
   "metadata": {
    "collapsed": true
   },
   "outputs": [],
   "source": [
    "from keras.layers import BatchNormalization\n",
    "def build_mlp(input_shape, output_units=10, num_neurons=[512, 256, 128]):\n",
    "    \"\"\"Code Here\n",
    "    建立你的神經網路\n",
    "    \"\"\"\n",
    "    input_layer = keras.layers.Input(input_shape)\n",
    "    \n",
    "    for i, n_units in enumerate(num_neurons):\n",
    "        if i == 0:\n",
    "            x = keras.layers.Dense(units=n_units, \n",
    "                                   activation=\"relu\", \n",
    "                                   name=\"hidden_layer\"+str(i+1))(input_layer)\n",
    "            x = BatchNormalization()(x)\n",
    "        else:\n",
    "            x = keras.layers.Dense(units=n_units, \n",
    "                                   activation=\"relu\", \n",
    "                                   name=\"hidden_layer\"+str(i+1))(x)\n",
    "            x = BatchNormalization()(x)\n",
    "    \n",
    "    out = keras.layers.Dense(units=output_units, activation=\"softmax\", name=\"output\")(x)\n",
    "    \n",
    "    model = keras.models.Model(inputs=[input_layer], outputs=[out])\n",
    "    return model"
   ]
  },
  {
   "cell_type": "code",
   "execution_count": 6,
   "metadata": {
    "collapsed": true
   },
   "outputs": [],
   "source": [
    "\"\"\"Code Here\n",
    "設定超參數\n",
    "\"\"\"\n",
    "LEARNING_RATE = 1e-3\n",
    "EPOCHS = 50\n",
    "BATCH_SIZE = 1024\n",
    "MOMENTUM = 0.95"
   ]
  },
  {
   "cell_type": "code",
   "execution_count": 11,
   "metadata": {},
   "outputs": [
    {
     "name": "stdout",
     "output_type": "stream",
     "text": [
      "_________________________________________________________________\n",
      "Layer (type)                 Output Shape              Param #   \n",
      "=================================================================\n",
      "input_3 (InputLayer)         (None, 3072)              0         \n",
      "_________________________________________________________________\n",
      "hidden_layer1 (Dense)        (None, 512)               1573376   \n",
      "_________________________________________________________________\n",
      "batch_normalization_7 (Batch (None, 512)               2048      \n",
      "_________________________________________________________________\n",
      "hidden_layer2 (Dense)        (None, 256)               131328    \n",
      "_________________________________________________________________\n",
      "batch_normalization_8 (Batch (None, 256)               1024      \n",
      "_________________________________________________________________\n",
      "hidden_layer3 (Dense)        (None, 128)               32896     \n",
      "_________________________________________________________________\n",
      "batch_normalization_9 (Batch (None, 128)               512       \n",
      "_________________________________________________________________\n",
      "output (Dense)               (None, 10)                1290      \n",
      "=================================================================\n",
      "Total params: 1,742,474\n",
      "Trainable params: 1,740,682\n",
      "Non-trainable params: 1,792\n",
      "_________________________________________________________________\n",
      "Train on 50000 samples, validate on 10000 samples\n",
      "Epoch 1/50\n",
      "50000/50000 [==============================] - 13s 262us/step - loss: 2.2228 - acc: 0.2720 - val_loss: 2.1708 - val_acc: 0.1925\n",
      "Epoch 2/50\n",
      "50000/50000 [==============================] - 12s 235us/step - loss: 1.7470 - acc: 0.3933 - val_loss: 1.9647 - val_acc: 0.3109\n",
      "Epoch 3/50\n",
      "50000/50000 [==============================] - 12s 244us/step - loss: 1.6166 - acc: 0.4328 - val_loss: 1.8438 - val_acc: 0.3553\n",
      "Epoch 4/50\n",
      "50000/50000 [==============================] - 13s 257us/step - loss: 1.5426 - acc: 0.4595 - val_loss: 1.7249 - val_acc: 0.3972\n",
      "Epoch 5/50\n",
      "50000/50000 [==============================] - 13s 251us/step - loss: 1.4870 - acc: 0.4778 - val_loss: 1.6506 - val_acc: 0.4193\n",
      "Epoch 6/50\n",
      "50000/50000 [==============================] - 12s 247us/step - loss: 1.4429 - acc: 0.4942 - val_loss: 1.5898 - val_acc: 0.4473\n",
      "Epoch 7/50\n",
      "50000/50000 [==============================] - 12s 243us/step - loss: 1.4042 - acc: 0.5085 - val_loss: 1.5492 - val_acc: 0.4518\n",
      "Epoch 8/50\n",
      "50000/50000 [==============================] - 12s 233us/step - loss: 1.3679 - acc: 0.5217 - val_loss: 1.5223 - val_acc: 0.4612\n",
      "Epoch 9/50\n",
      "50000/50000 [==============================] - 12s 235us/step - loss: 1.3376 - acc: 0.5326 - val_loss: 1.5135 - val_acc: 0.4637\n",
      "Epoch 10/50\n",
      "50000/50000 [==============================] - 12s 235us/step - loss: 1.3079 - acc: 0.5443 - val_loss: 1.5019 - val_acc: 0.4691\n",
      "Epoch 11/50\n",
      "50000/50000 [==============================] - 12s 238us/step - loss: 1.2813 - acc: 0.5531 - val_loss: 1.4920 - val_acc: 0.4734\n",
      "Epoch 12/50\n",
      "50000/50000 [==============================] - 12s 246us/step - loss: 1.2546 - acc: 0.5640 - val_loss: 1.4766 - val_acc: 0.4835\n",
      "Epoch 13/50\n",
      "50000/50000 [==============================] - 12s 240us/step - loss: 1.2264 - acc: 0.5749 - val_loss: 1.4848 - val_acc: 0.4729\n",
      "Epoch 14/50\n",
      "50000/50000 [==============================] - 12s 235us/step - loss: 1.2035 - acc: 0.5837 - val_loss: 1.4657 - val_acc: 0.4867\n",
      "Epoch 15/50\n",
      "50000/50000 [==============================] - 12s 242us/step - loss: 1.1794 - acc: 0.5923 - val_loss: 1.4705 - val_acc: 0.4833\n",
      "Epoch 16/50\n",
      "50000/50000 [==============================] - 12s 235us/step - loss: 1.1561 - acc: 0.6028 - val_loss: 1.4632 - val_acc: 0.4856\n",
      "Epoch 17/50\n",
      "50000/50000 [==============================] - 12s 236us/step - loss: 1.1341 - acc: 0.6113 - val_loss: 1.4595 - val_acc: 0.4860\n",
      "Epoch 18/50\n",
      "50000/50000 [==============================] - 12s 236us/step - loss: 1.1105 - acc: 0.6215 - val_loss: 1.4547 - val_acc: 0.4928\n",
      "Epoch 19/50\n",
      "50000/50000 [==============================] - 12s 238us/step - loss: 1.0881 - acc: 0.6273 - val_loss: 1.4573 - val_acc: 0.4940\n",
      "Epoch 20/50\n",
      "50000/50000 [==============================] - 12s 237us/step - loss: 1.0696 - acc: 0.6353 - val_loss: 1.4784 - val_acc: 0.4887\n",
      "Epoch 21/50\n",
      "50000/50000 [==============================] - 12s 246us/step - loss: 1.0464 - acc: 0.6446 - val_loss: 1.4633 - val_acc: 0.4987\n",
      "Epoch 22/50\n",
      "50000/50000 [==============================] - 12s 234us/step - loss: 1.0225 - acc: 0.6539 - val_loss: 1.4543 - val_acc: 0.4972\n",
      "Epoch 23/50\n",
      "50000/50000 [==============================] - 12s 238us/step - loss: 1.0025 - acc: 0.6615 - val_loss: 1.4680 - val_acc: 0.4968\n",
      "Epoch 24/50\n",
      "50000/50000 [==============================] - 12s 231us/step - loss: 0.9831 - acc: 0.6694 - val_loss: 1.4611 - val_acc: 0.4914\n",
      "Epoch 25/50\n",
      "50000/50000 [==============================] - 12s 230us/step - loss: 0.9628 - acc: 0.6772 - val_loss: 1.4637 - val_acc: 0.4950\n",
      "Epoch 26/50\n",
      "50000/50000 [==============================] - 12s 236us/step - loss: 0.9416 - acc: 0.6837 - val_loss: 1.4757 - val_acc: 0.4948\n",
      "Epoch 27/50\n",
      "50000/50000 [==============================] - 13s 252us/step - loss: 0.9220 - acc: 0.6929 - val_loss: 1.4869 - val_acc: 0.4965\n",
      "Epoch 28/50\n",
      "50000/50000 [==============================] - 13s 260us/step - loss: 0.9018 - acc: 0.7010 - val_loss: 1.4849 - val_acc: 0.4953\n",
      "Epoch 29/50\n",
      "50000/50000 [==============================] - 12s 234us/step - loss: 0.8823 - acc: 0.7108 - val_loss: 1.4827 - val_acc: 0.4976\n",
      "Epoch 30/50\n",
      "50000/50000 [==============================] - 12s 237us/step - loss: 0.8646 - acc: 0.7172 - val_loss: 1.4900 - val_acc: 0.4933\n",
      "Epoch 31/50\n",
      "50000/50000 [==============================] - 12s 234us/step - loss: 0.8424 - acc: 0.7242 - val_loss: 1.4913 - val_acc: 0.4959\n",
      "Epoch 00031: early stopping\n"
     ]
    }
   ],
   "source": [
    "# 載入 Callbacks\n",
    "\"\"\"Code Here\n",
    "設定 callbacks: Earlystop\n",
    "\"\"\"\n",
    "from keras.callbacks import EarlyStopping\n",
    "\n",
    "earlystop = EarlyStopping(monitor=\"val_acc\", \n",
    "                          patience=10, \n",
    "                          verbose=1\n",
    "                          )\n",
    "\n",
    "results = {}\n",
    "\"\"\"Code Here\n",
    "撰寫你的訓練流程並將結果用 dictionary 紀錄\n",
    "\"\"\"\n",
    "model = build_mlp(input_shape=x_train.shape[1:])\n",
    "model.summary()\n",
    "optimizer = keras.optimizers.SGD(lr=LEARNING_RATE, nesterov=True, momentum=MOMENTUM)\n",
    "model.compile(loss=\"categorical_crossentropy\", metrics=[\"accuracy\"], optimizer=optimizer)\n",
    "\n",
    "model.fit(x_train, y_train, \n",
    "          epochs=EPOCHS, \n",
    "          batch_size=BATCH_SIZE, \n",
    "          validation_data=(x_test, y_test), \n",
    "          shuffle=True,\n",
    "          callbacks=[earlystop]\n",
    "         )\n",
    "\n",
    "# Collect results\n",
    "train_loss = model.history.history[\"loss\"]\n",
    "valid_loss = model.history.history[\"val_loss\"]\n",
    "train_acc = model.history.history[\"acc\"]\n",
    "valid_acc = model.history.history[\"val_acc\"]"
   ]
  },
  {
   "cell_type": "code",
   "execution_count": 13,
   "metadata": {},
   "outputs": [
    {
     "data": {
      "image/png": "[encoded data removed]",
      "text/plain": [
       "<Figure size 432x288 with 1 Axes>"
      ]
     },
     "metadata": {
      "needs_background": "light"
     },
     "output_type": "display_data"
    },
    {
     "data": {
      "image/png": "[encoded data removed]",
      "text/plain": [
       "<Figure size 432x288 with 1 Axes>"
      ]
     },
     "metadata": {
      "needs_background": "light"
     },
     "output_type": "display_data"
    }
   ],
   "source": [
    "import matplotlib.pyplot as plt\n",
    "%matplotlib inline\n",
    "\"\"\"Code Here\n",
    "將結果繪出\n",
    "\"\"\"\n",
    "plt.plot(range(len(train_loss)), train_loss, label=\"train loss\")\n",
    "plt.plot(range(len(valid_loss)), valid_loss, label=\"valid loss\")\n",
    "plt.legend()\n",
    "plt.title(\"Loss\")\n",
    "plt.show()\n",
    "\n",
    "plt.plot(range(len(train_acc)), train_acc, label=\"train accuracy\")\n",
    "plt.plot(range(len(valid_acc)), valid_acc, label=\"valid accuracy\")\n",
    "plt.legend()\n",
    "plt.title(\"Accuracy\")\n",
    "plt.show()"
   ]
  },
  {
   "cell_type": "code",
   "execution_count": null,
   "metadata": {
    "collapsed": true
   },
   "outputs": [],
   "source": []
  }
 ],
 "metadata": {
  "kernelspec": {
   "display_name": "Python 3",
   "language": "python",
   "name": "python3"
  },
  "language_info": {
   "codemirror_mode": {
    "name": "ipython",
    "version": 3
   },
   "file_extension": ".py",
   "mimetype": "text/x-python",
   "name": "python",
   "nbconvert_exporter": "python",
   "pygments_lexer": "ipython3",
   "version": "3.6.6"
  }
 },
 "nbformat": 4,
 "nbformat_minor": 2
}
